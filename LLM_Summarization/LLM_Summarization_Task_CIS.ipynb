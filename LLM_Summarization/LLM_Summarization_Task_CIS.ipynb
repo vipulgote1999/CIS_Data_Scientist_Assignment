{
  "nbformat": 4,
  "nbformat_minor": 0,
  "metadata": {
    "colab": {
      "provenance": [],
      "gpuType": "T4"
    },
    "kernelspec": {
      "name": "python3",
      "display_name": "Python 3"
    },
    "language_info": {
      "name": "python"
    },
    "accelerator": "GPU",
    "widgets": {
      "application/vnd.jupyter.widget-state+json": {
        "5fc4c14e0eba46df888e2dc116b4cb3d": {
          "model_module": "@jupyter-widgets/controls",
          "model_name": "HBoxModel",
          "model_module_version": "1.5.0",
          "state": {
            "_dom_classes": [],
            "_model_module": "@jupyter-widgets/controls",
            "_model_module_version": "1.5.0",
            "_model_name": "HBoxModel",
            "_view_count": null,
            "_view_module": "@jupyter-widgets/controls",
            "_view_module_version": "1.5.0",
            "_view_name": "HBoxView",
            "box_style": "",
            "children": [
              "IPY_MODEL_b482c456d4f14ebc9adf6e60ca28cfeb",
              "IPY_MODEL_0db3260e156b456480ab6b9bfae10488",
              "IPY_MODEL_cd53a0f9e0414c97b8e5a1d98e3e36cb"
            ],
            "layout": "IPY_MODEL_a561f2c8d12b4312ae1e81a5112ec6fe"
          }
        },
        "b482c456d4f14ebc9adf6e60ca28cfeb": {
          "model_module": "@jupyter-widgets/controls",
          "model_name": "HTMLModel",
          "model_module_version": "1.5.0",
          "state": {
            "_dom_classes": [],
            "_model_module": "@jupyter-widgets/controls",
            "_model_module_version": "1.5.0",
            "_model_name": "HTMLModel",
            "_view_count": null,
            "_view_module": "@jupyter-widgets/controls",
            "_view_module_version": "1.5.0",
            "_view_name": "HTMLView",
            "description": "",
            "description_tooltip": null,
            "layout": "IPY_MODEL_22ea02e185a14c48844bea8f8388e105",
            "placeholder": "​",
            "style": "IPY_MODEL_be4269f01c5840a1bf8a7c8d3144e02e",
            "value": "Loading checkpoint shards: 100%"
          }
        },
        "0db3260e156b456480ab6b9bfae10488": {
          "model_module": "@jupyter-widgets/controls",
          "model_name": "FloatProgressModel",
          "model_module_version": "1.5.0",
          "state": {
            "_dom_classes": [],
            "_model_module": "@jupyter-widgets/controls",
            "_model_module_version": "1.5.0",
            "_model_name": "FloatProgressModel",
            "_view_count": null,
            "_view_module": "@jupyter-widgets/controls",
            "_view_module_version": "1.5.0",
            "_view_name": "ProgressView",
            "bar_style": "success",
            "description": "",
            "description_tooltip": null,
            "layout": "IPY_MODEL_3d9e2f54e98b4bd1b5254dca0d126be8",
            "max": 2,
            "min": 0,
            "orientation": "horizontal",
            "style": "IPY_MODEL_e4ddfdba96334b0597aa43469f57a8fb",
            "value": 2
          }
        },
        "cd53a0f9e0414c97b8e5a1d98e3e36cb": {
          "model_module": "@jupyter-widgets/controls",
          "model_name": "HTMLModel",
          "model_module_version": "1.5.0",
          "state": {
            "_dom_classes": [],
            "_model_module": "@jupyter-widgets/controls",
            "_model_module_version": "1.5.0",
            "_model_name": "HTMLModel",
            "_view_count": null,
            "_view_module": "@jupyter-widgets/controls",
            "_view_module_version": "1.5.0",
            "_view_name": "HTMLView",
            "description": "",
            "description_tooltip": null,
            "layout": "IPY_MODEL_c7c49f4dcce44b1eade1cf9a234302a8",
            "placeholder": "​",
            "style": "IPY_MODEL_8f505e7fecd44e9ab84c3646ca981e4f",
            "value": " 2/2 [00:57&lt;00:00, 26.17s/it]"
          }
        },
        "a561f2c8d12b4312ae1e81a5112ec6fe": {
          "model_module": "@jupyter-widgets/base",
          "model_name": "LayoutModel",
          "model_module_version": "1.2.0",
          "state": {
            "_model_module": "@jupyter-widgets/base",
            "_model_module_version": "1.2.0",
            "_model_name": "LayoutModel",
            "_view_count": null,
            "_view_module": "@jupyter-widgets/base",
            "_view_module_version": "1.2.0",
            "_view_name": "LayoutView",
            "align_content": null,
            "align_items": null,
            "align_self": null,
            "border": null,
            "bottom": null,
            "display": null,
            "flex": null,
            "flex_flow": null,
            "grid_area": null,
            "grid_auto_columns": null,
            "grid_auto_flow": null,
            "grid_auto_rows": null,
            "grid_column": null,
            "grid_gap": null,
            "grid_row": null,
            "grid_template_areas": null,
            "grid_template_columns": null,
            "grid_template_rows": null,
            "height": null,
            "justify_content": null,
            "justify_items": null,
            "left": null,
            "margin": null,
            "max_height": null,
            "max_width": null,
            "min_height": null,
            "min_width": null,
            "object_fit": null,
            "object_position": null,
            "order": null,
            "overflow": null,
            "overflow_x": null,
            "overflow_y": null,
            "padding": null,
            "right": null,
            "top": null,
            "visibility": null,
            "width": null
          }
        },
        "22ea02e185a14c48844bea8f8388e105": {
          "model_module": "@jupyter-widgets/base",
          "model_name": "LayoutModel",
          "model_module_version": "1.2.0",
          "state": {
            "_model_module": "@jupyter-widgets/base",
            "_model_module_version": "1.2.0",
            "_model_name": "LayoutModel",
            "_view_count": null,
            "_view_module": "@jupyter-widgets/base",
            "_view_module_version": "1.2.0",
            "_view_name": "LayoutView",
            "align_content": null,
            "align_items": null,
            "align_self": null,
            "border": null,
            "bottom": null,
            "display": null,
            "flex": null,
            "flex_flow": null,
            "grid_area": null,
            "grid_auto_columns": null,
            "grid_auto_flow": null,
            "grid_auto_rows": null,
            "grid_column": null,
            "grid_gap": null,
            "grid_row": null,
            "grid_template_areas": null,
            "grid_template_columns": null,
            "grid_template_rows": null,
            "height": null,
            "justify_content": null,
            "justify_items": null,
            "left": null,
            "margin": null,
            "max_height": null,
            "max_width": null,
            "min_height": null,
            "min_width": null,
            "object_fit": null,
            "object_position": null,
            "order": null,
            "overflow": null,
            "overflow_x": null,
            "overflow_y": null,
            "padding": null,
            "right": null,
            "top": null,
            "visibility": null,
            "width": null
          }
        },
        "be4269f01c5840a1bf8a7c8d3144e02e": {
          "model_module": "@jupyter-widgets/controls",
          "model_name": "DescriptionStyleModel",
          "model_module_version": "1.5.0",
          "state": {
            "_model_module": "@jupyter-widgets/controls",
            "_model_module_version": "1.5.0",
            "_model_name": "DescriptionStyleModel",
            "_view_count": null,
            "_view_module": "@jupyter-widgets/base",
            "_view_module_version": "1.2.0",
            "_view_name": "StyleView",
            "description_width": ""
          }
        },
        "3d9e2f54e98b4bd1b5254dca0d126be8": {
          "model_module": "@jupyter-widgets/base",
          "model_name": "LayoutModel",
          "model_module_version": "1.2.0",
          "state": {
            "_model_module": "@jupyter-widgets/base",
            "_model_module_version": "1.2.0",
            "_model_name": "LayoutModel",
            "_view_count": null,
            "_view_module": "@jupyter-widgets/base",
            "_view_module_version": "1.2.0",
            "_view_name": "LayoutView",
            "align_content": null,
            "align_items": null,
            "align_self": null,
            "border": null,
            "bottom": null,
            "display": null,
            "flex": null,
            "flex_flow": null,
            "grid_area": null,
            "grid_auto_columns": null,
            "grid_auto_flow": null,
            "grid_auto_rows": null,
            "grid_column": null,
            "grid_gap": null,
            "grid_row": null,
            "grid_template_areas": null,
            "grid_template_columns": null,
            "grid_template_rows": null,
            "height": null,
            "justify_content": null,
            "justify_items": null,
            "left": null,
            "margin": null,
            "max_height": null,
            "max_width": null,
            "min_height": null,
            "min_width": null,
            "object_fit": null,
            "object_position": null,
            "order": null,
            "overflow": null,
            "overflow_x": null,
            "overflow_y": null,
            "padding": null,
            "right": null,
            "top": null,
            "visibility": null,
            "width": null
          }
        },
        "e4ddfdba96334b0597aa43469f57a8fb": {
          "model_module": "@jupyter-widgets/controls",
          "model_name": "ProgressStyleModel",
          "model_module_version": "1.5.0",
          "state": {
            "_model_module": "@jupyter-widgets/controls",
            "_model_module_version": "1.5.0",
            "_model_name": "ProgressStyleModel",
            "_view_count": null,
            "_view_module": "@jupyter-widgets/base",
            "_view_module_version": "1.2.0",
            "_view_name": "StyleView",
            "bar_color": null,
            "description_width": ""
          }
        },
        "c7c49f4dcce44b1eade1cf9a234302a8": {
          "model_module": "@jupyter-widgets/base",
          "model_name": "LayoutModel",
          "model_module_version": "1.2.0",
          "state": {
            "_model_module": "@jupyter-widgets/base",
            "_model_module_version": "1.2.0",
            "_model_name": "LayoutModel",
            "_view_count": null,
            "_view_module": "@jupyter-widgets/base",
            "_view_module_version": "1.2.0",
            "_view_name": "LayoutView",
            "align_content": null,
            "align_items": null,
            "align_self": null,
            "border": null,
            "bottom": null,
            "display": null,
            "flex": null,
            "flex_flow": null,
            "grid_area": null,
            "grid_auto_columns": null,
            "grid_auto_flow": null,
            "grid_auto_rows": null,
            "grid_column": null,
            "grid_gap": null,
            "grid_row": null,
            "grid_template_areas": null,
            "grid_template_columns": null,
            "grid_template_rows": null,
            "height": null,
            "justify_content": null,
            "justify_items": null,
            "left": null,
            "margin": null,
            "max_height": null,
            "max_width": null,
            "min_height": null,
            "min_width": null,
            "object_fit": null,
            "object_position": null,
            "order": null,
            "overflow": null,
            "overflow_x": null,
            "overflow_y": null,
            "padding": null,
            "right": null,
            "top": null,
            "visibility": null,
            "width": null
          }
        },
        "8f505e7fecd44e9ab84c3646ca981e4f": {
          "model_module": "@jupyter-widgets/controls",
          "model_name": "DescriptionStyleModel",
          "model_module_version": "1.5.0",
          "state": {
            "_model_module": "@jupyter-widgets/controls",
            "_model_module_version": "1.5.0",
            "_model_name": "DescriptionStyleModel",
            "_view_count": null,
            "_view_module": "@jupyter-widgets/base",
            "_view_module_version": "1.2.0",
            "_view_name": "StyleView",
            "description_width": ""
          }
        },
        "89f4aa0efdf84b8e88d4f65ba39fe966": {
          "model_module": "@jupyter-widgets/controls",
          "model_name": "HBoxModel",
          "model_module_version": "1.5.0",
          "state": {
            "_dom_classes": [],
            "_model_module": "@jupyter-widgets/controls",
            "_model_module_version": "1.5.0",
            "_model_name": "HBoxModel",
            "_view_count": null,
            "_view_module": "@jupyter-widgets/controls",
            "_view_module_version": "1.5.0",
            "_view_name": "HBoxView",
            "box_style": "",
            "children": [
              "IPY_MODEL_95b470a4ff3045c9bb576943dcb48c8f",
              "IPY_MODEL_bfa67f2c857f440792ba4e1e23fd6633",
              "IPY_MODEL_1ae56fb49b5c4765997e091d6dc0cf08"
            ],
            "layout": "IPY_MODEL_7561e27d88ef463c81aa48d1c498c402"
          }
        },
        "95b470a4ff3045c9bb576943dcb48c8f": {
          "model_module": "@jupyter-widgets/controls",
          "model_name": "HTMLModel",
          "model_module_version": "1.5.0",
          "state": {
            "_dom_classes": [],
            "_model_module": "@jupyter-widgets/controls",
            "_model_module_version": "1.5.0",
            "_model_name": "HTMLModel",
            "_view_count": null,
            "_view_module": "@jupyter-widgets/controls",
            "_view_module_version": "1.5.0",
            "_view_name": "HTMLView",
            "description": "",
            "description_tooltip": null,
            "layout": "IPY_MODEL_e319cbe83ab84093980588a393b0f1a1",
            "placeholder": "​",
            "style": "IPY_MODEL_4432f7188f8446a8958a1a67e5a71ca7",
            "value": "Map: 100%"
          }
        },
        "bfa67f2c857f440792ba4e1e23fd6633": {
          "model_module": "@jupyter-widgets/controls",
          "model_name": "FloatProgressModel",
          "model_module_version": "1.5.0",
          "state": {
            "_dom_classes": [],
            "_model_module": "@jupyter-widgets/controls",
            "_model_module_version": "1.5.0",
            "_model_name": "FloatProgressModel",
            "_view_count": null,
            "_view_module": "@jupyter-widgets/controls",
            "_view_module_version": "1.5.0",
            "_view_name": "ProgressView",
            "bar_style": "success",
            "description": "",
            "description_tooltip": null,
            "layout": "IPY_MODEL_507abdfff0b641679a146c8d7165f7a3",
            "max": 100,
            "min": 0,
            "orientation": "horizontal",
            "style": "IPY_MODEL_4965ab65ff8048cdb44115e4891a2a2d",
            "value": 100
          }
        },
        "1ae56fb49b5c4765997e091d6dc0cf08": {
          "model_module": "@jupyter-widgets/controls",
          "model_name": "HTMLModel",
          "model_module_version": "1.5.0",
          "state": {
            "_dom_classes": [],
            "_model_module": "@jupyter-widgets/controls",
            "_model_module_version": "1.5.0",
            "_model_name": "HTMLModel",
            "_view_count": null,
            "_view_module": "@jupyter-widgets/controls",
            "_view_module_version": "1.5.0",
            "_view_name": "HTMLView",
            "description": "",
            "description_tooltip": null,
            "layout": "IPY_MODEL_3d48d00faf1941bda5eb115bca1b5ab7",
            "placeholder": "​",
            "style": "IPY_MODEL_c5571514f7c649a58eb102f949c967fc",
            "value": " 100/100 [00:01&lt;00:00, 82.30 examples/s]"
          }
        },
        "7561e27d88ef463c81aa48d1c498c402": {
          "model_module": "@jupyter-widgets/base",
          "model_name": "LayoutModel",
          "model_module_version": "1.2.0",
          "state": {
            "_model_module": "@jupyter-widgets/base",
            "_model_module_version": "1.2.0",
            "_model_name": "LayoutModel",
            "_view_count": null,
            "_view_module": "@jupyter-widgets/base",
            "_view_module_version": "1.2.0",
            "_view_name": "LayoutView",
            "align_content": null,
            "align_items": null,
            "align_self": null,
            "border": null,
            "bottom": null,
            "display": null,
            "flex": null,
            "flex_flow": null,
            "grid_area": null,
            "grid_auto_columns": null,
            "grid_auto_flow": null,
            "grid_auto_rows": null,
            "grid_column": null,
            "grid_gap": null,
            "grid_row": null,
            "grid_template_areas": null,
            "grid_template_columns": null,
            "grid_template_rows": null,
            "height": null,
            "justify_content": null,
            "justify_items": null,
            "left": null,
            "margin": null,
            "max_height": null,
            "max_width": null,
            "min_height": null,
            "min_width": null,
            "object_fit": null,
            "object_position": null,
            "order": null,
            "overflow": null,
            "overflow_x": null,
            "overflow_y": null,
            "padding": null,
            "right": null,
            "top": null,
            "visibility": null,
            "width": null
          }
        },
        "e319cbe83ab84093980588a393b0f1a1": {
          "model_module": "@jupyter-widgets/base",
          "model_name": "LayoutModel",
          "model_module_version": "1.2.0",
          "state": {
            "_model_module": "@jupyter-widgets/base",
            "_model_module_version": "1.2.0",
            "_model_name": "LayoutModel",
            "_view_count": null,
            "_view_module": "@jupyter-widgets/base",
            "_view_module_version": "1.2.0",
            "_view_name": "LayoutView",
            "align_content": null,
            "align_items": null,
            "align_self": null,
            "border": null,
            "bottom": null,
            "display": null,
            "flex": null,
            "flex_flow": null,
            "grid_area": null,
            "grid_auto_columns": null,
            "grid_auto_flow": null,
            "grid_auto_rows": null,
            "grid_column": null,
            "grid_gap": null,
            "grid_row": null,
            "grid_template_areas": null,
            "grid_template_columns": null,
            "grid_template_rows": null,
            "height": null,
            "justify_content": null,
            "justify_items": null,
            "left": null,
            "margin": null,
            "max_height": null,
            "max_width": null,
            "min_height": null,
            "min_width": null,
            "object_fit": null,
            "object_position": null,
            "order": null,
            "overflow": null,
            "overflow_x": null,
            "overflow_y": null,
            "padding": null,
            "right": null,
            "top": null,
            "visibility": null,
            "width": null
          }
        },
        "4432f7188f8446a8958a1a67e5a71ca7": {
          "model_module": "@jupyter-widgets/controls",
          "model_name": "DescriptionStyleModel",
          "model_module_version": "1.5.0",
          "state": {
            "_model_module": "@jupyter-widgets/controls",
            "_model_module_version": "1.5.0",
            "_model_name": "DescriptionStyleModel",
            "_view_count": null,
            "_view_module": "@jupyter-widgets/base",
            "_view_module_version": "1.2.0",
            "_view_name": "StyleView",
            "description_width": ""
          }
        },
        "507abdfff0b641679a146c8d7165f7a3": {
          "model_module": "@jupyter-widgets/base",
          "model_name": "LayoutModel",
          "model_module_version": "1.2.0",
          "state": {
            "_model_module": "@jupyter-widgets/base",
            "_model_module_version": "1.2.0",
            "_model_name": "LayoutModel",
            "_view_count": null,
            "_view_module": "@jupyter-widgets/base",
            "_view_module_version": "1.2.0",
            "_view_name": "LayoutView",
            "align_content": null,
            "align_items": null,
            "align_self": null,
            "border": null,
            "bottom": null,
            "display": null,
            "flex": null,
            "flex_flow": null,
            "grid_area": null,
            "grid_auto_columns": null,
            "grid_auto_flow": null,
            "grid_auto_rows": null,
            "grid_column": null,
            "grid_gap": null,
            "grid_row": null,
            "grid_template_areas": null,
            "grid_template_columns": null,
            "grid_template_rows": null,
            "height": null,
            "justify_content": null,
            "justify_items": null,
            "left": null,
            "margin": null,
            "max_height": null,
            "max_width": null,
            "min_height": null,
            "min_width": null,
            "object_fit": null,
            "object_position": null,
            "order": null,
            "overflow": null,
            "overflow_x": null,
            "overflow_y": null,
            "padding": null,
            "right": null,
            "top": null,
            "visibility": null,
            "width": null
          }
        },
        "4965ab65ff8048cdb44115e4891a2a2d": {
          "model_module": "@jupyter-widgets/controls",
          "model_name": "ProgressStyleModel",
          "model_module_version": "1.5.0",
          "state": {
            "_model_module": "@jupyter-widgets/controls",
            "_model_module_version": "1.5.0",
            "_model_name": "ProgressStyleModel",
            "_view_count": null,
            "_view_module": "@jupyter-widgets/base",
            "_view_module_version": "1.2.0",
            "_view_name": "StyleView",
            "bar_color": null,
            "description_width": ""
          }
        },
        "3d48d00faf1941bda5eb115bca1b5ab7": {
          "model_module": "@jupyter-widgets/base",
          "model_name": "LayoutModel",
          "model_module_version": "1.2.0",
          "state": {
            "_model_module": "@jupyter-widgets/base",
            "_model_module_version": "1.2.0",
            "_model_name": "LayoutModel",
            "_view_count": null,
            "_view_module": "@jupyter-widgets/base",
            "_view_module_version": "1.2.0",
            "_view_name": "LayoutView",
            "align_content": null,
            "align_items": null,
            "align_self": null,
            "border": null,
            "bottom": null,
            "display": null,
            "flex": null,
            "flex_flow": null,
            "grid_area": null,
            "grid_auto_columns": null,
            "grid_auto_flow": null,
            "grid_auto_rows": null,
            "grid_column": null,
            "grid_gap": null,
            "grid_row": null,
            "grid_template_areas": null,
            "grid_template_columns": null,
            "grid_template_rows": null,
            "height": null,
            "justify_content": null,
            "justify_items": null,
            "left": null,
            "margin": null,
            "max_height": null,
            "max_width": null,
            "min_height": null,
            "min_width": null,
            "object_fit": null,
            "object_position": null,
            "order": null,
            "overflow": null,
            "overflow_x": null,
            "overflow_y": null,
            "padding": null,
            "right": null,
            "top": null,
            "visibility": null,
            "width": null
          }
        },
        "c5571514f7c649a58eb102f949c967fc": {
          "model_module": "@jupyter-widgets/controls",
          "model_name": "DescriptionStyleModel",
          "model_module_version": "1.5.0",
          "state": {
            "_model_module": "@jupyter-widgets/controls",
            "_model_module_version": "1.5.0",
            "_model_name": "DescriptionStyleModel",
            "_view_count": null,
            "_view_module": "@jupyter-widgets/base",
            "_view_module_version": "1.2.0",
            "_view_name": "StyleView",
            "description_width": ""
          }
        },
        "4c5ee1f5b3ac4bc0b30090c17e7554a3": {
          "model_module": "@jupyter-widgets/controls",
          "model_name": "HBoxModel",
          "model_module_version": "1.5.0",
          "state": {
            "_dom_classes": [],
            "_model_module": "@jupyter-widgets/controls",
            "_model_module_version": "1.5.0",
            "_model_name": "HBoxModel",
            "_view_count": null,
            "_view_module": "@jupyter-widgets/controls",
            "_view_module_version": "1.5.0",
            "_view_name": "HBoxView",
            "box_style": "",
            "children": [
              "IPY_MODEL_270d8de3d80a44749f827a6e2bc899f6",
              "IPY_MODEL_625d4287c39b4f158ec0c7687d19426e",
              "IPY_MODEL_8307797b2be0462fbec95d2ca5c90900"
            ],
            "layout": "IPY_MODEL_1bb891f227f94f05a599db1814cb46f2"
          }
        },
        "270d8de3d80a44749f827a6e2bc899f6": {
          "model_module": "@jupyter-widgets/controls",
          "model_name": "HTMLModel",
          "model_module_version": "1.5.0",
          "state": {
            "_dom_classes": [],
            "_model_module": "@jupyter-widgets/controls",
            "_model_module_version": "1.5.0",
            "_model_name": "HTMLModel",
            "_view_count": null,
            "_view_module": "@jupyter-widgets/controls",
            "_view_module_version": "1.5.0",
            "_view_name": "HTMLView",
            "description": "",
            "description_tooltip": null,
            "layout": "IPY_MODEL_8658cb4e396f4db08beb94bb836c9e43",
            "placeholder": "​",
            "style": "IPY_MODEL_10f7c9f0c63a43da92dd733c4498b0dc",
            "value": "Loading checkpoint shards: 100%"
          }
        },
        "625d4287c39b4f158ec0c7687d19426e": {
          "model_module": "@jupyter-widgets/controls",
          "model_name": "FloatProgressModel",
          "model_module_version": "1.5.0",
          "state": {
            "_dom_classes": [],
            "_model_module": "@jupyter-widgets/controls",
            "_model_module_version": "1.5.0",
            "_model_name": "FloatProgressModel",
            "_view_count": null,
            "_view_module": "@jupyter-widgets/controls",
            "_view_module_version": "1.5.0",
            "_view_name": "ProgressView",
            "bar_style": "success",
            "description": "",
            "description_tooltip": null,
            "layout": "IPY_MODEL_326a4b3a18624244b18a7c5f1bc6f581",
            "max": 2,
            "min": 0,
            "orientation": "horizontal",
            "style": "IPY_MODEL_02a1520e65a4456fb90b25883553ea29",
            "value": 2
          }
        },
        "8307797b2be0462fbec95d2ca5c90900": {
          "model_module": "@jupyter-widgets/controls",
          "model_name": "HTMLModel",
          "model_module_version": "1.5.0",
          "state": {
            "_dom_classes": [],
            "_model_module": "@jupyter-widgets/controls",
            "_model_module_version": "1.5.0",
            "_model_name": "HTMLModel",
            "_view_count": null,
            "_view_module": "@jupyter-widgets/controls",
            "_view_module_version": "1.5.0",
            "_view_name": "HTMLView",
            "description": "",
            "description_tooltip": null,
            "layout": "IPY_MODEL_e5cada1f8ac04384866b16ca364aa840",
            "placeholder": "​",
            "style": "IPY_MODEL_11aadb48cda5453aa60fab197a190937",
            "value": " 2/2 [01:12&lt;00:00, 33.04s/it]"
          }
        },
        "1bb891f227f94f05a599db1814cb46f2": {
          "model_module": "@jupyter-widgets/base",
          "model_name": "LayoutModel",
          "model_module_version": "1.2.0",
          "state": {
            "_model_module": "@jupyter-widgets/base",
            "_model_module_version": "1.2.0",
            "_model_name": "LayoutModel",
            "_view_count": null,
            "_view_module": "@jupyter-widgets/base",
            "_view_module_version": "1.2.0",
            "_view_name": "LayoutView",
            "align_content": null,
            "align_items": null,
            "align_self": null,
            "border": null,
            "bottom": null,
            "display": null,
            "flex": null,
            "flex_flow": null,
            "grid_area": null,
            "grid_auto_columns": null,
            "grid_auto_flow": null,
            "grid_auto_rows": null,
            "grid_column": null,
            "grid_gap": null,
            "grid_row": null,
            "grid_template_areas": null,
            "grid_template_columns": null,
            "grid_template_rows": null,
            "height": null,
            "justify_content": null,
            "justify_items": null,
            "left": null,
            "margin": null,
            "max_height": null,
            "max_width": null,
            "min_height": null,
            "min_width": null,
            "object_fit": null,
            "object_position": null,
            "order": null,
            "overflow": null,
            "overflow_x": null,
            "overflow_y": null,
            "padding": null,
            "right": null,
            "top": null,
            "visibility": null,
            "width": null
          }
        },
        "8658cb4e396f4db08beb94bb836c9e43": {
          "model_module": "@jupyter-widgets/base",
          "model_name": "LayoutModel",
          "model_module_version": "1.2.0",
          "state": {
            "_model_module": "@jupyter-widgets/base",
            "_model_module_version": "1.2.0",
            "_model_name": "LayoutModel",
            "_view_count": null,
            "_view_module": "@jupyter-widgets/base",
            "_view_module_version": "1.2.0",
            "_view_name": "LayoutView",
            "align_content": null,
            "align_items": null,
            "align_self": null,
            "border": null,
            "bottom": null,
            "display": null,
            "flex": null,
            "flex_flow": null,
            "grid_area": null,
            "grid_auto_columns": null,
            "grid_auto_flow": null,
            "grid_auto_rows": null,
            "grid_column": null,
            "grid_gap": null,
            "grid_row": null,
            "grid_template_areas": null,
            "grid_template_columns": null,
            "grid_template_rows": null,
            "height": null,
            "justify_content": null,
            "justify_items": null,
            "left": null,
            "margin": null,
            "max_height": null,
            "max_width": null,
            "min_height": null,
            "min_width": null,
            "object_fit": null,
            "object_position": null,
            "order": null,
            "overflow": null,
            "overflow_x": null,
            "overflow_y": null,
            "padding": null,
            "right": null,
            "top": null,
            "visibility": null,
            "width": null
          }
        },
        "10f7c9f0c63a43da92dd733c4498b0dc": {
          "model_module": "@jupyter-widgets/controls",
          "model_name": "DescriptionStyleModel",
          "model_module_version": "1.5.0",
          "state": {
            "_model_module": "@jupyter-widgets/controls",
            "_model_module_version": "1.5.0",
            "_model_name": "DescriptionStyleModel",
            "_view_count": null,
            "_view_module": "@jupyter-widgets/base",
            "_view_module_version": "1.2.0",
            "_view_name": "StyleView",
            "description_width": ""
          }
        },
        "326a4b3a18624244b18a7c5f1bc6f581": {
          "model_module": "@jupyter-widgets/base",
          "model_name": "LayoutModel",
          "model_module_version": "1.2.0",
          "state": {
            "_model_module": "@jupyter-widgets/base",
            "_model_module_version": "1.2.0",
            "_model_name": "LayoutModel",
            "_view_count": null,
            "_view_module": "@jupyter-widgets/base",
            "_view_module_version": "1.2.0",
            "_view_name": "LayoutView",
            "align_content": null,
            "align_items": null,
            "align_self": null,
            "border": null,
            "bottom": null,
            "display": null,
            "flex": null,
            "flex_flow": null,
            "grid_area": null,
            "grid_auto_columns": null,
            "grid_auto_flow": null,
            "grid_auto_rows": null,
            "grid_column": null,
            "grid_gap": null,
            "grid_row": null,
            "grid_template_areas": null,
            "grid_template_columns": null,
            "grid_template_rows": null,
            "height": null,
            "justify_content": null,
            "justify_items": null,
            "left": null,
            "margin": null,
            "max_height": null,
            "max_width": null,
            "min_height": null,
            "min_width": null,
            "object_fit": null,
            "object_position": null,
            "order": null,
            "overflow": null,
            "overflow_x": null,
            "overflow_y": null,
            "padding": null,
            "right": null,
            "top": null,
            "visibility": null,
            "width": null
          }
        },
        "02a1520e65a4456fb90b25883553ea29": {
          "model_module": "@jupyter-widgets/controls",
          "model_name": "ProgressStyleModel",
          "model_module_version": "1.5.0",
          "state": {
            "_model_module": "@jupyter-widgets/controls",
            "_model_module_version": "1.5.0",
            "_model_name": "ProgressStyleModel",
            "_view_count": null,
            "_view_module": "@jupyter-widgets/base",
            "_view_module_version": "1.2.0",
            "_view_name": "StyleView",
            "bar_color": null,
            "description_width": ""
          }
        },
        "e5cada1f8ac04384866b16ca364aa840": {
          "model_module": "@jupyter-widgets/base",
          "model_name": "LayoutModel",
          "model_module_version": "1.2.0",
          "state": {
            "_model_module": "@jupyter-widgets/base",
            "_model_module_version": "1.2.0",
            "_model_name": "LayoutModel",
            "_view_count": null,
            "_view_module": "@jupyter-widgets/base",
            "_view_module_version": "1.2.0",
            "_view_name": "LayoutView",
            "align_content": null,
            "align_items": null,
            "align_self": null,
            "border": null,
            "bottom": null,
            "display": null,
            "flex": null,
            "flex_flow": null,
            "grid_area": null,
            "grid_auto_columns": null,
            "grid_auto_flow": null,
            "grid_auto_rows": null,
            "grid_column": null,
            "grid_gap": null,
            "grid_row": null,
            "grid_template_areas": null,
            "grid_template_columns": null,
            "grid_template_rows": null,
            "height": null,
            "justify_content": null,
            "justify_items": null,
            "left": null,
            "margin": null,
            "max_height": null,
            "max_width": null,
            "min_height": null,
            "min_width": null,
            "object_fit": null,
            "object_position": null,
            "order": null,
            "overflow": null,
            "overflow_x": null,
            "overflow_y": null,
            "padding": null,
            "right": null,
            "top": null,
            "visibility": null,
            "width": null
          }
        },
        "11aadb48cda5453aa60fab197a190937": {
          "model_module": "@jupyter-widgets/controls",
          "model_name": "DescriptionStyleModel",
          "model_module_version": "1.5.0",
          "state": {
            "_model_module": "@jupyter-widgets/controls",
            "_model_module_version": "1.5.0",
            "_model_name": "DescriptionStyleModel",
            "_view_count": null,
            "_view_module": "@jupyter-widgets/base",
            "_view_module_version": "1.2.0",
            "_view_name": "StyleView",
            "description_width": ""
          }
        }
      }
    }
  },
  "cells": [
    {
      "cell_type": "markdown",
      "source": [
        "# Installations of packages required"
      ],
      "metadata": {
        "id": "Pi76hfQ4AHc4"
      }
    },
    {
      "cell_type": "code",
      "execution_count": 1,
      "metadata": {
        "colab": {
          "base_uri": "https://localhost:8080/"
        },
        "collapsed": true,
        "id": "Ns96dlUJ8k5w",
        "outputId": "53a5ba31-c84b-4818-b9de-a734972f2157"
      },
      "outputs": [
        {
          "output_type": "stream",
          "name": "stdout",
          "text": [
            "Requirement already satisfied: bitsandbytes in /usr/local/lib/python3.11/dist-packages (0.45.4)\n",
            "Requirement already satisfied: transformers in /usr/local/lib/python3.11/dist-packages (4.50.3)\n",
            "Requirement already satisfied: peft in /usr/local/lib/python3.11/dist-packages (0.15.1)\n",
            "Requirement already satisfied: datasets in /usr/local/lib/python3.11/dist-packages (3.5.0)\n",
            "Requirement already satisfied: accelerate in /usr/local/lib/python3.11/dist-packages (1.6.0)\n",
            "Requirement already satisfied: nltk in /usr/local/lib/python3.11/dist-packages (3.9.1)\n",
            "Requirement already satisfied: rouge-score in /usr/local/lib/python3.11/dist-packages (0.1.2)\n",
            "Requirement already satisfied: trl==0.12.0 in /usr/local/lib/python3.11/dist-packages (0.12.0)\n",
            "Requirement already satisfied: rich in /usr/local/lib/python3.11/dist-packages (from trl==0.12.0) (13.9.4)\n",
            "Requirement already satisfied: torch<3,>=2.0 in /usr/local/lib/python3.11/dist-packages (from bitsandbytes) (2.6.0+cu124)\n",
            "Requirement already satisfied: numpy>=1.17 in /usr/local/lib/python3.11/dist-packages (from bitsandbytes) (2.0.2)\n",
            "Requirement already satisfied: filelock in /usr/local/lib/python3.11/dist-packages (from transformers) (3.18.0)\n",
            "Requirement already satisfied: huggingface-hub<1.0,>=0.26.0 in /usr/local/lib/python3.11/dist-packages (from transformers) (0.29.3)\n",
            "Requirement already satisfied: packaging>=20.0 in /usr/local/lib/python3.11/dist-packages (from transformers) (24.2)\n",
            "Requirement already satisfied: pyyaml>=5.1 in /usr/local/lib/python3.11/dist-packages (from transformers) (6.0.2)\n",
            "Requirement already satisfied: regex!=2019.12.17 in /usr/local/lib/python3.11/dist-packages (from transformers) (2024.11.6)\n",
            "Requirement already satisfied: requests in /usr/local/lib/python3.11/dist-packages (from transformers) (2.32.3)\n",
            "Requirement already satisfied: tokenizers<0.22,>=0.21 in /usr/local/lib/python3.11/dist-packages (from transformers) (0.21.1)\n",
            "Requirement already satisfied: safetensors>=0.4.3 in /usr/local/lib/python3.11/dist-packages (from transformers) (0.5.3)\n",
            "Requirement already satisfied: tqdm>=4.27 in /usr/local/lib/python3.11/dist-packages (from transformers) (4.67.1)\n",
            "Requirement already satisfied: psutil in /usr/local/lib/python3.11/dist-packages (from peft) (5.9.5)\n",
            "Requirement already satisfied: pyarrow>=15.0.0 in /usr/local/lib/python3.11/dist-packages (from datasets) (18.1.0)\n",
            "Requirement already satisfied: dill<0.3.9,>=0.3.0 in /usr/local/lib/python3.11/dist-packages (from datasets) (0.3.8)\n",
            "Requirement already satisfied: pandas in /usr/local/lib/python3.11/dist-packages (from datasets) (2.2.2)\n",
            "Requirement already satisfied: xxhash in /usr/local/lib/python3.11/dist-packages (from datasets) (3.5.0)\n",
            "Requirement already satisfied: multiprocess<0.70.17 in /usr/local/lib/python3.11/dist-packages (from datasets) (0.70.16)\n",
            "Requirement already satisfied: fsspec<=2024.12.0,>=2023.1.0 in /usr/local/lib/python3.11/dist-packages (from fsspec[http]<=2024.12.0,>=2023.1.0->datasets) (2024.12.0)\n",
            "Requirement already satisfied: aiohttp in /usr/local/lib/python3.11/dist-packages (from datasets) (3.11.14)\n",
            "Requirement already satisfied: click in /usr/local/lib/python3.11/dist-packages (from nltk) (8.1.8)\n",
            "Requirement already satisfied: joblib in /usr/local/lib/python3.11/dist-packages (from nltk) (1.4.2)\n",
            "Requirement already satisfied: absl-py in /usr/local/lib/python3.11/dist-packages (from rouge-score) (1.4.0)\n",
            "Requirement already satisfied: six>=1.14.0 in /usr/local/lib/python3.11/dist-packages (from rouge-score) (1.17.0)\n",
            "Requirement already satisfied: aiohappyeyeballs>=2.3.0 in /usr/local/lib/python3.11/dist-packages (from aiohttp->datasets) (2.6.1)\n",
            "Requirement already satisfied: aiosignal>=1.1.2 in /usr/local/lib/python3.11/dist-packages (from aiohttp->datasets) (1.3.2)\n",
            "Requirement already satisfied: attrs>=17.3.0 in /usr/local/lib/python3.11/dist-packages (from aiohttp->datasets) (25.3.0)\n",
            "Requirement already satisfied: frozenlist>=1.1.1 in /usr/local/lib/python3.11/dist-packages (from aiohttp->datasets) (1.5.0)\n",
            "Requirement already satisfied: multidict<7.0,>=4.5 in /usr/local/lib/python3.11/dist-packages (from aiohttp->datasets) (6.2.0)\n",
            "Requirement already satisfied: propcache>=0.2.0 in /usr/local/lib/python3.11/dist-packages (from aiohttp->datasets) (0.3.1)\n",
            "Requirement already satisfied: yarl<2.0,>=1.17.0 in /usr/local/lib/python3.11/dist-packages (from aiohttp->datasets) (1.18.3)\n",
            "Requirement already satisfied: typing-extensions>=3.7.4.3 in /usr/local/lib/python3.11/dist-packages (from huggingface-hub<1.0,>=0.26.0->transformers) (4.13.0)\n",
            "Requirement already satisfied: charset-normalizer<4,>=2 in /usr/local/lib/python3.11/dist-packages (from requests->transformers) (3.4.1)\n",
            "Requirement already satisfied: idna<4,>=2.5 in /usr/local/lib/python3.11/dist-packages (from requests->transformers) (3.10)\n",
            "Requirement already satisfied: urllib3<3,>=1.21.1 in /usr/local/lib/python3.11/dist-packages (from requests->transformers) (2.3.0)\n",
            "Requirement already satisfied: certifi>=2017.4.17 in /usr/local/lib/python3.11/dist-packages (from requests->transformers) (2025.1.31)\n",
            "Requirement already satisfied: networkx in /usr/local/lib/python3.11/dist-packages (from torch<3,>=2.0->bitsandbytes) (3.4.2)\n",
            "Requirement already satisfied: jinja2 in /usr/local/lib/python3.11/dist-packages (from torch<3,>=2.0->bitsandbytes) (3.1.6)\n",
            "Requirement already satisfied: nvidia-cuda-nvrtc-cu12==12.4.127 in /usr/local/lib/python3.11/dist-packages (from torch<3,>=2.0->bitsandbytes) (12.4.127)\n",
            "Requirement already satisfied: nvidia-cuda-runtime-cu12==12.4.127 in /usr/local/lib/python3.11/dist-packages (from torch<3,>=2.0->bitsandbytes) (12.4.127)\n",
            "Requirement already satisfied: nvidia-cuda-cupti-cu12==12.4.127 in /usr/local/lib/python3.11/dist-packages (from torch<3,>=2.0->bitsandbytes) (12.4.127)\n",
            "Requirement already satisfied: nvidia-cudnn-cu12==9.1.0.70 in /usr/local/lib/python3.11/dist-packages (from torch<3,>=2.0->bitsandbytes) (9.1.0.70)\n",
            "Requirement already satisfied: nvidia-cublas-cu12==12.4.5.8 in /usr/local/lib/python3.11/dist-packages (from torch<3,>=2.0->bitsandbytes) (12.4.5.8)\n",
            "Requirement already satisfied: nvidia-cufft-cu12==11.2.1.3 in /usr/local/lib/python3.11/dist-packages (from torch<3,>=2.0->bitsandbytes) (11.2.1.3)\n",
            "Requirement already satisfied: nvidia-curand-cu12==10.3.5.147 in /usr/local/lib/python3.11/dist-packages (from torch<3,>=2.0->bitsandbytes) (10.3.5.147)\n",
            "Requirement already satisfied: nvidia-cusolver-cu12==11.6.1.9 in /usr/local/lib/python3.11/dist-packages (from torch<3,>=2.0->bitsandbytes) (11.6.1.9)\n",
            "Requirement already satisfied: nvidia-cusparse-cu12==12.3.1.170 in /usr/local/lib/python3.11/dist-packages (from torch<3,>=2.0->bitsandbytes) (12.3.1.170)\n",
            "Requirement already satisfied: nvidia-cusparselt-cu12==0.6.2 in /usr/local/lib/python3.11/dist-packages (from torch<3,>=2.0->bitsandbytes) (0.6.2)\n",
            "Requirement already satisfied: nvidia-nccl-cu12==2.21.5 in /usr/local/lib/python3.11/dist-packages (from torch<3,>=2.0->bitsandbytes) (2.21.5)\n",
            "Requirement already satisfied: nvidia-nvtx-cu12==12.4.127 in /usr/local/lib/python3.11/dist-packages (from torch<3,>=2.0->bitsandbytes) (12.4.127)\n",
            "Requirement already satisfied: nvidia-nvjitlink-cu12==12.4.127 in /usr/local/lib/python3.11/dist-packages (from torch<3,>=2.0->bitsandbytes) (12.4.127)\n",
            "Requirement already satisfied: triton==3.2.0 in /usr/local/lib/python3.11/dist-packages (from torch<3,>=2.0->bitsandbytes) (3.2.0)\n",
            "Requirement already satisfied: sympy==1.13.1 in /usr/local/lib/python3.11/dist-packages (from torch<3,>=2.0->bitsandbytes) (1.13.1)\n",
            "Requirement already satisfied: mpmath<1.4,>=1.1.0 in /usr/local/lib/python3.11/dist-packages (from sympy==1.13.1->torch<3,>=2.0->bitsandbytes) (1.3.0)\n",
            "Requirement already satisfied: python-dateutil>=2.8.2 in /usr/local/lib/python3.11/dist-packages (from pandas->datasets) (2.8.2)\n",
            "Requirement already satisfied: pytz>=2020.1 in /usr/local/lib/python3.11/dist-packages (from pandas->datasets) (2025.2)\n",
            "Requirement already satisfied: tzdata>=2022.7 in /usr/local/lib/python3.11/dist-packages (from pandas->datasets) (2025.2)\n",
            "Requirement already satisfied: markdown-it-py>=2.2.0 in /usr/local/lib/python3.11/dist-packages (from rich->trl==0.12.0) (3.0.0)\n",
            "Requirement already satisfied: pygments<3.0.0,>=2.13.0 in /usr/local/lib/python3.11/dist-packages (from rich->trl==0.12.0) (2.18.0)\n",
            "Requirement already satisfied: mdurl~=0.1 in /usr/local/lib/python3.11/dist-packages (from markdown-it-py>=2.2.0->rich->trl==0.12.0) (0.1.2)\n",
            "Requirement already satisfied: MarkupSafe>=2.0 in /usr/local/lib/python3.11/dist-packages (from jinja2->torch<3,>=2.0->bitsandbytes) (3.0.2)\n"
          ]
        }
      ],
      "source": [
        "!pip install -U bitsandbytes transformers peft datasets accelerate nltk rouge-score trl==0.12.0\n",
        "# !pip install -U\n",
        "# !pip install -q -U git+https://github.com/huggingface/peft.git\n",
        "# !pip install -U peft\n",
        "# !pip install datasets\n",
        "# !pip install trl==0.12.0\n",
        "# ! pip install -U accelerate\n",
        "# !pip install nltk rouge-score"
      ]
    },
    {
      "cell_type": "markdown",
      "source": [
        "# Huggingface and wanddb login"
      ],
      "metadata": {
        "id": "n626jN86AKUQ"
      }
    },
    {
      "cell_type": "code",
      "source": [
        "!huggingface-cli login --token xxxxxxxxxxxxxxxxxxxxxxx"
      ],
      "metadata": {
        "colab": {
          "base_uri": "https://localhost:8080/"
        },
        "id": "wEf2dJ_X8xiC",
        "outputId": "47c8d239-720a-4c06-d846-84e78ed30e9d"
      },
      "execution_count": 2,
      "outputs": [
        {
          "output_type": "stream",
          "name": "stdout",
          "text": [
            "The token has not been saved to the git credentials helper. Pass `add_to_git_credential=True` in this function directly or `--add-to-git-credential` if using via `huggingface-cli` if you want to set the git credential as well.\n",
            "Token is valid (permission: fineGrained).\n",
            "The token `Huggingface_store_token` has been saved to /root/.cache/huggingface/stored_tokens\n",
            "Your token has been saved to /root/.cache/huggingface/token\n",
            "Login successful.\n",
            "The current active token is: `Huggingface_store_token`\n"
          ]
        }
      ]
    },
    {
      "cell_type": "code",
      "source": [
        "!huggingface-cli whoami"
      ],
      "metadata": {
        "colab": {
          "base_uri": "https://localhost:8080/"
        },
        "id": "jVnQao6v85QI",
        "outputId": "f4667e11-1a6e-400b-9c33-f00355f12199"
      },
      "execution_count": 3,
      "outputs": [
        {
          "output_type": "stream",
          "name": "stdout",
          "text": [
            "Existance\n"
          ]
        }
      ]
    },
    {
      "cell_type": "code",
      "source": [
        "import wandb\n",
        "!wandb login xxxxxxxxxxxxxxxx"
      ],
      "metadata": {
        "colab": {
          "base_uri": "https://localhost:8080/"
        },
        "id": "2qLCFHzm87Ja",
        "outputId": "f1c55c43-485a-4ac3-c04e-ead8e398119f"
      },
      "execution_count": 4,
      "outputs": [
        {
          "output_type": "stream",
          "name": "stdout",
          "text": [
            "\u001b[34m\u001b[1mwandb\u001b[0m: Appending key for api.wandb.ai to your netrc file: /root/.netrc\n",
            "\u001b[34m\u001b[1mwandb\u001b[0m: W&B API key is configured. Use \u001b[1m`wandb login --relogin`\u001b[0m to force relogin\n"
          ]
        }
      ]
    },
    {
      "cell_type": "markdown",
      "source": [
        "# Import Neccesary packages for finetuning"
      ],
      "metadata": {
        "id": "o_3fTw-u8-T-"
      }
    },
    {
      "cell_type": "code",
      "source": [
        "import torch\n",
        "import time\n",
        "import pandas as pd\n",
        "import numpy as np\n",
        "import random\n",
        "import matplotlib.pyplot as plt\n",
        "\n",
        "from datasets import Dataset, load_dataset\n",
        "from datasets import load_dataset#, load_metric\n",
        "from transformers import pipeline, set_seed\n",
        "from transformers import AutoModelForSeq2SeqLM, AutoTokenizer\n",
        "\n",
        "import warnings\n",
        "warnings.filterwarnings(\"ignore\")"
      ],
      "metadata": {
        "id": "q-rBC63m88mL"
      },
      "execution_count": 5,
      "outputs": []
    },
    {
      "cell_type": "markdown",
      "source": [
        "# import dataset from huggingface"
      ],
      "metadata": {
        "id": "pth66Njw9Buy"
      }
    },
    {
      "cell_type": "code",
      "source": [
        "huggingface_dataset_name = \"ccdv/pubmed-summarization\"\n",
        "\n",
        "# dataset = load_dataset(huggingface_dataset_name, \"3.0.0\")\n",
        "dataset = load_dataset(huggingface_dataset_name)\n",
        "dataset"
      ],
      "metadata": {
        "colab": {
          "base_uri": "https://localhost:8080/"
        },
        "id": "QMG_3CMO88gJ",
        "outputId": "81cdc5b1-8683-42e2-8264-7811e6bbd3fb"
      },
      "execution_count": 6,
      "outputs": [
        {
          "output_type": "execute_result",
          "data": {
            "text/plain": [
              "DatasetDict({\n",
              "    train: Dataset({\n",
              "        features: ['article', 'abstract'],\n",
              "        num_rows: 119924\n",
              "    })\n",
              "    validation: Dataset({\n",
              "        features: ['article', 'abstract'],\n",
              "        num_rows: 6633\n",
              "    })\n",
              "    test: Dataset({\n",
              "        features: ['article', 'abstract'],\n",
              "        num_rows: 6658\n",
              "    })\n",
              "})"
            ]
          },
          "metadata": {},
          "execution_count": 6
        }
      ]
    },
    {
      "cell_type": "markdown",
      "source": [
        "# View One sample from dataset\n",
        "using this we will get what kind of data is and what kind of structure it holds"
      ],
      "metadata": {
        "id": "Ivm2YTAH9JIr"
      }
    },
    {
      "cell_type": "code",
      "source": [
        "sample = dataset[\"train\"][1]\n",
        "print(f\"\"\"Article (excerpt of 500 characters, total length: {len(sample[\"article\"])}):\"\"\")\n",
        "print(sample[\"article\"][:500])\n",
        "print(f'\\nSummary (length: {len(sample[\"abstract\"])}):')\n",
        "print(sample[\"abstract\"])"
      ],
      "metadata": {
        "colab": {
          "base_uri": "https://localhost:8080/"
        },
        "id": "DVJi9Ta89I-1",
        "outputId": "6c885e26-2a17-4d81-85c8-71e8956cd05c"
      },
      "execution_count": 7,
      "outputs": [
        {
          "output_type": "stream",
          "name": "stdout",
          "text": [
            "Article (excerpt of 500 characters, total length: 18281):\n",
            "it occurs in more than 50% of patients and may reach 90% in certain types of cancers , especially in patients undergoing chemotherapy and/or radiation therapy.1 anemia is defined as an inadequate circulating level of hemoglobin ( hb ) ( hb < 12 g / dl ) and may arise as a result of the underlying disease , bleeding , poor nutrition , chemotherapy , or radiation therapy . \n",
            " preliminary studies suggest that survival and loco - regional control after radiation therapy , especially in head and neck \n",
            "\n",
            "Summary (length: 2010):\n",
            "backgroundanemia in patients with cancer who are undergoing active therapy is commonly encountered and may worsen quality of life in these patients . the effect of blood transfusion is often temporary and may be associated with serious adverse events . \n",
            " erythropoiesis - stimulating agents are not effective in 30%50% of patients and may have a negative effect on overall survival.aimsto assess the efficacy and feasibility of intravenous iron therapy in patients with cancer who have non - iron - deficiency anemia and who are undergoing treatment with chemotherapy without the use of erythropoiesis - stimulating agents.methodsadult patients with solid cancers and non - iron - deficiency anemia were included . \n",
            " ferric sucrose at a dose of 200 mg was given in short intravenous infusions weekly for a total of 12 weeks . \n",
            " hemoglobin level was measured at baseline , every 3 weeks , and 2 weeks after the last iron infusion ( week 14 ) . \n",
            " adverse events related to intravenous iron were prospectively reported.resultsof 25 patients included , 19 ( 76.0% ) completed at least three iron infusions and 14 ( 56.0% ) finished the planned 12 weeks of therapy . \n",
            " the mean hemoglobin level of the 25 patients at baseline was 9.6 g / dl ( median , 9.9 g / dl ; range , 6.9 g / dl 10.9 g / dl ) . the mean change in hemoglobin level for the 15 patients who completed at least 9 treatments was 1.7 g / dl ( median , 1.1 g / dl ; range , 1.9 g / dl to 3.2 g / dl ) ; it reached 2.1 g / dl ( median , 1.3 g / dl ; range , 0.2 g / dl to 4.6 g / dl ; p = 0.0007 ) for the 14 patients who completed all 12 weekly treatments . \n",
            " five ( 20.0% ) patients were transfused and considered as treatment failures . \n",
            " no treatment - related adverse events were reported.conclusionintravenous iron treatment alone is safe and may reduce blood transfusion requirements and improve hemoglobin level in patients with cancer who are undergoing anticancer therapy . \n",
            " further randomized studies are needed to confirm these findings .\n"
          ]
        }
      ]
    },
    {
      "cell_type": "markdown",
      "source": [
        "# convert to Instruct finetune dataset"
      ],
      "metadata": {
        "id": "U1R3BE_A9NPe"
      }
    },
    {
      "cell_type": "code",
      "source": [
        "def format_instruction(dialogue: str, summary: str):\n",
        "    return f\"\"\"### Instruction:\n",
        "Summarize the following conversation.\n",
        "\n",
        "### Input:\n",
        "{dialogue.strip()}\n",
        "\n",
        "### Summary:\n",
        "{summary}\n",
        "\"\"\".strip()\n",
        "\n",
        "def generate_instruction_dataset(data_point):\n",
        "\n",
        "    return {\n",
        "        \"article\": data_point[\"article\"],\n",
        "        \"abstract\": data_point[\"abstract\"],\n",
        "        \"text\": format_instruction(data_point[\"article\"],data_point[\"abstract\"])\n",
        "    }\n",
        "\n",
        "def process_dataset(data: Dataset):\n",
        "    return (\n",
        "        data.shuffle(seed=42)\n",
        "        .map(generate_instruction_dataset)\n",
        "    )"
      ],
      "metadata": {
        "id": "_DJD3rzU9HEn"
      },
      "execution_count": 8,
      "outputs": []
    },
    {
      "cell_type": "markdown",
      "source": [
        "# apply preprocessing onto process_dataset\n",
        "\n"
      ],
      "metadata": {
        "id": "PKkvmr8a9Rh3"
      }
    },
    {
      "cell_type": "code",
      "source": [
        "dataset[\"train\"] = process_dataset(dataset[\"train\"])\n",
        "dataset[\"test\"] = process_dataset(dataset[\"validation\"])\n",
        "dataset[\"validation\"] = process_dataset(dataset[\"validation\"])\n",
        "\n",
        "# Select 1000 rows from the training split\n",
        "train_data = dataset['train'].shuffle(seed=42).select([i for i in range(1000)])\n",
        "\n",
        "# Select 100 rows from the test and validation splits\n",
        "test_data = dataset['test'].shuffle(seed=42).select([i for i in range(100)])\n",
        "validation_data = dataset['validation'].shuffle(seed=42).select([i for i in range(100)])\n",
        "\n",
        "train_data,test_data,validation_data"
      ],
      "metadata": {
        "colab": {
          "base_uri": "https://localhost:8080/"
        },
        "id": "Sl5g74Bl9T4J",
        "outputId": "f1bda711-d19b-4c95-f199-66d854b383e4"
      },
      "execution_count": 9,
      "outputs": [
        {
          "output_type": "execute_result",
          "data": {
            "text/plain": [
              "(Dataset({\n",
              "     features: ['article', 'abstract', 'text'],\n",
              "     num_rows: 1000\n",
              " }),\n",
              " Dataset({\n",
              "     features: ['article', 'abstract', 'text'],\n",
              "     num_rows: 100\n",
              " }),\n",
              " Dataset({\n",
              "     features: ['article', 'abstract', 'text'],\n",
              "     num_rows: 100\n",
              " }))"
            ]
          },
          "metadata": {},
          "execution_count": 9
        }
      ]
    },
    {
      "cell_type": "markdown",
      "source": [
        "# Load model in 4-bit quant"
      ],
      "metadata": {
        "id": "A3TjR5JC9YGZ"
      }
    },
    {
      "cell_type": "code",
      "source": [
        "import torch\n",
        "from transformers import AutoTokenizer, AutoModelForCausalLM, BitsAndBytesConfig\n",
        "\n",
        "model_id =  \"NousResearch/Llama-2-7b-hf\"\n",
        "\n",
        "bnb_config = BitsAndBytesConfig(\n",
        "    load_in_4bit=True,\n",
        "    bnb_4bit_use_double_quant=True,\n",
        "    bnb_4bit_quant_type=\"nf4\",\n",
        "    bnb_4bit_compute_dtype=torch.bfloat16\n",
        ")\n",
        "\n",
        "model = AutoModelForCausalLM.from_pretrained(model_id, quantization_config=bnb_config, device_map=\"auto\")\n",
        "# model = AutoModelForCausalLM.from_pretrained(model_id, quantization_config=bnb_config, device_map=\"cuda:0\")\n",
        "\n",
        "tokenizer = AutoTokenizer.from_pretrained(model_id)\n",
        "tokenizer.pad_token = tokenizer.eos_token\n",
        "tokenizer.padding_side = \"right\""
      ],
      "metadata": {
        "colab": {
          "base_uri": "https://localhost:8080/",
          "height": 49,
          "referenced_widgets": [
            "5fc4c14e0eba46df888e2dc116b4cb3d",
            "b482c456d4f14ebc9adf6e60ca28cfeb",
            "0db3260e156b456480ab6b9bfae10488",
            "cd53a0f9e0414c97b8e5a1d98e3e36cb",
            "a561f2c8d12b4312ae1e81a5112ec6fe",
            "22ea02e185a14c48844bea8f8388e105",
            "be4269f01c5840a1bf8a7c8d3144e02e",
            "3d9e2f54e98b4bd1b5254dca0d126be8",
            "e4ddfdba96334b0597aa43469f57a8fb",
            "c7c49f4dcce44b1eade1cf9a234302a8",
            "8f505e7fecd44e9ab84c3646ca981e4f"
          ]
        },
        "id": "FPiOkTu89Y9r",
        "outputId": "823771d2-adda-4319-cca1-27d4db5bdfaa"
      },
      "execution_count": 10,
      "outputs": [
        {
          "output_type": "display_data",
          "data": {
            "text/plain": [
              "Loading checkpoint shards:   0%|          | 0/2 [00:00<?, ?it/s]"
            ],
            "application/vnd.jupyter.widget-view+json": {
              "version_major": 2,
              "version_minor": 0,
              "model_id": "5fc4c14e0eba46df888e2dc116b4cb3d"
            }
          },
          "metadata": {}
        }
      ]
    },
    {
      "cell_type": "markdown",
      "source": [
        "# ZERO-SHOT INFERENCE WITH LLAMA-2 7B"
      ],
      "metadata": {
        "id": "rzB_jakj9cBA"
      }
    },
    {
      "cell_type": "code",
      "source": [
        "index = 2\n",
        "\n",
        "dialogue = test_data['article'][index]\n",
        "summary = test_data['abstract'][index]\n",
        "\n",
        "prompt = f\"\"\"\n",
        "Summarize the following conversation.\n",
        "\n",
        "### Input:\n",
        "{dialogue}\n",
        "\n",
        "### Summary:\n",
        "\"\"\"\n",
        "\n",
        "inputs = tokenizer(prompt, return_tensors='pt').to(model.device)\n",
        "output = tokenizer.decode(\n",
        "    model.generate(\n",
        "        inputs[\"input_ids\"],\n",
        "        max_new_tokens=100,\n",
        "    )[0],\n",
        "    skip_special_tokens=True\n",
        ")\n",
        "\n",
        "dash_line = '-'.join('' for x in range(100))\n",
        "print(dash_line)\n",
        "print(f'INPUT PROMPT:\\n{prompt}')\n",
        "print(dash_line)\n",
        "print(f'BASELINE HUMAN SUMMARY:\\n{summary}\\n')\n",
        "print(dash_line)\n",
        "print(f'MODEL GENERATION - ZERO SHOT:\\n{output}')"
      ],
      "metadata": {
        "colab": {
          "base_uri": "https://localhost:8080/"
        },
        "id": "6s5pUV0c9f2j",
        "outputId": "69e38b6f-a9ee-45da-c9b0-a4a7852b7a4e"
      },
      "execution_count": 11,
      "outputs": [
        {
          "output_type": "stream",
          "name": "stdout",
          "text": [
            "---------------------------------------------------------------------------------------------------\n",
            "INPUT PROMPT:\n",
            "\n",
            "Summarize the following conversation.\n",
            "\n",
            "### Input:\n",
            "the north american association of central cancer registries reported in the period from 1992 to 1997 more than 1.6 million females with the diagnosis of cancer . of these , 67,746 were ovarian cancers , 1563 ( or 2.3% ) of which occurred in patients younger than 25 . \n",
            " close to 50% ( 780 cases ) were reported in women aged 20 to 24 , 481 cases in the 15- to 19-year - old group , and 302 cases in the neonates to the 14-year - old group.1 the three major types of ovarian tumors are epithelial , sex cord , and germ cell . \n",
            " epithelial cell tumors represent the majority of all ovarian neoplasms ( 82%).conversely , germ cell tumors ( gcts ) are rare , comprising approximately 20% of all ovarian tumors , both benign and malignant . \n",
            " the most commonly occurring gct is the dysgerminoma , which accounts for only 1 - 5% of all ovarian cancers.26 in the literature search using pubmed , midline search and google , some reports on the incidence of dysgerminoma in families were found . \n",
            " i am presenting two cases of dysgerminomas diagnosed in two sisters aged 14 and 19 years . \n",
            " the first patient is a 14-year - old saudi single female who presented at the emergency department with a prolonged history of pelvic and lower abdominal swelling associated with a dull pelvic pain and anorexia . \n",
            " physical examination revealed huge abdomenopelvic mass with mild tenderness over pelvis and lower abdomen . on inspection , \n",
            " the patient was referred for ultrasound examination and the study ( not shown ) revealed a large mass measuring 1216 cm arising from the right adnexa with upward extension into the abdomen . \n",
            " ultrasound examination of the abdomen showed bilateral dilatation of pelvicalyceal system and upper ureters consistent with bilateral hydrouretro - nephrosis . \n",
            " magnetic resonance imaging ( mri ) of the pelvis ( figure 1 ) showed a large encapsulated mass arising from right adnexa with upward extension into abdominal cavity displacing and compressing both uterus and urinary bladder anteriorly and inferiorly . \n",
            " the mass was non - homogeneous with predominantly intermediate signal intensity in proton density images , and contained multiple cystic spaces representing previous tumor hemorrhage . \n",
            " two consequent saggital proton density mri of the pelvis showing a large mass arising from adnexa with upward extension into abdominal cavity . \n",
            " the mass appears of intermediate signal intensity with multiple internal foci of high signal intensity . \n",
            " mass effect on adjacent structures such as the uterus , urinary bladder and rectum is seen . \n",
            " intravenous urography ( figure 2 ) showed bilateral laterally displaced and dilated ureters with bilateral hydronephrosis . \n",
            " single film of ivp series showing lateral deviation of both pelvic ureters by a large pelvic mass with bilateral hydronephrosis . \n",
            " the patient was operated on and the treatment consisted of simple right salpingo - oophorectomy followed by adjuvant radiotherapy and chemotherapy . \n",
            " examination of the surgical specimen revealed pure dysgerminoma ( stage one a ) arising from the right ovary . \n",
            " the follow - up of thirty months confirmed that the patient was in good health with normal ultrasound and laboratory results . \n",
            " two years later , her sister presented at the age of 19 with lower abdominal mass , mild pain and dysmenorrhea . \n",
            " physical examination showed a palpable mass in the lower abdomen and pelvis with mild tenderness . \n",
            " the patient was referred to the radiology department where ultrasound , computerized tomography ( ct ) scan ( figures 3 and 4 ) and mri were done . \n",
            " the imaging features of the mass were almost the same as in the first patient . \n",
            " the patient was operated on and the mass was found to have arisen from the left ovary with no macroscopic invasion of surrounding structures . \n",
            " two consequent contrast enhanced axial ct scan images of the pelvis showing irregular heterogeneously enhancing mass arising from left adnexa with upward extension . \n",
            " two sagittally reconstructed ct scan images showing a large mass arising from the pelvis , displacing the urinary bladder and uterus anteriorly and inferiorly . \n",
            " the mass appears isodense to the muscles and contains multiple areas of low densities representing cystic changes . \n",
            " patients present with a unilateral , predominantly solid mass with varying degrees of necrosis and hemorrhage . \n",
            " the patients are treated with unilateral salpingo - oophorectomy and chemotherapy.78 dysgerminomas are bilateral in 10 - 35% of cases . \n",
            " they may have a 46xy karyotype with pure gonadal dysgenesis or androgen insensitivity syndrome , or they may have a 45x , 46xy karyotype with mixed gonadal dysgenesis.910 in patients with a known or suspected adnexal mass , ultrasound is highly accurate in the assessment of the location of the tumor ( e.g. , differentiation of uterine from adnexal masses ) and in distinguishing between a benign and malignant adnexal lesion . \n",
            " the optimal use of ultrasound requires the analysis of morphologic features and doppler findings.1114 ovarian masses with septations greater than 3 mm , mural nodularity , and papillary projections suggest the diagnosis of malignant ovarian neoplasm.1517 the most significant feature is the presence of solid components within an ovarian mass,18 other features suggesting malignant etiology include vascular septations thicker than 3 mm , septal nodularity , and single or multiple enhancing solid components within a cystic mass.1920 necrosis within a solid lesion is also a strong indicator of malignancy . in our cases , \n",
            " many of these features such as solid components , central necrosis , heterogeneity , free fluid and central increased vscularity were present . \n",
            " central color doppler flow within solid components of an ovarian mass has been shown to be an accurate predictor of malignancy.182122 brown and colleagues18 studied 211 adnexal masses , including 28 malignancies to determine the best discrimination between benignity and malignancy by gray - scale and doppler . a nonhyperechoic solid component within a mass , central blood flow on color doppler imaging , free intraperitoneal fluid , and septations within a mass had 93% sensitivity and 93% specificity for diagnosis of malignancy . in a setting of \n",
            " sonographically indeterminate adnexal masses , mr imaging is used as a problem - solving tool . \n",
            " the main advantage of mr imaging is that it can provide tissue characterization based on signal properties.23 for adequate evaluation of adnexal masses on mr imaging , t1-weighted and t2- weighted images are fundamental in the delineation of pelvic anatomy and tumor . \n",
            " gadolinium - enhanced t1-weighted images help to characterize the internal architecture of cystic lesions and improve the detection of solid components.2425 mr imaging has been shown to be superior to doppler ultrasound and conventional ct in the diagnosis of malignant ovarian masses [ the estimated area under receiver operating characteristic curve ( auc ) was 0.78 for ultrasound , 0.87 for ct , and 0.91 for mr imaging].26 although ct has not traditionally been used in the characterization of an adnexal mass , studies have shown that the utility of thin - section multislice ct is equivalent to that of ultrasound . \n",
            " ct characterization of adnexal mass relies on the depiction of morphologic features of enhancing mural nodularity or heterogeneity and necrosis within a solid lesion . \n",
            " ancillary findings , such as ascites and peritoneal carcinomatosis on ultrasound , ct , or mr imaging are strong indicators of a malignant etiology for an adnexal mass . several cases of families with both males and females diagnosed with germ cell cancers have been documented . \n",
            " the low incidence of ovarian germ cell cancers suggests that multiple occurrences in the same family may not be due to chance . \n",
            " rather , it is possible that a gene that confers susceptibility to ovarian germ cell cancers , and possibly to germ cell tumors in males as well , is present in at least some of these families.27 the primary goal of radiologic assessment is the differentiation of malignant tumors from benign tumors , rather than determination of histologic subtype . sometimes , it is possible , however , to suggest the histologic subtype of an epithelial neoplasm based on particular imaging features . \n",
            " i would like , in conclusion , to recommend an early diagnosis . with the availability of recent imaging techniques , \n",
            " a full radiological investigation could be done to search for metastasis , evaluate the adjacent organs , and give an early referral to the oncology center since the tumor is chemo - sensitive .\n",
            "\n",
            "### Summary:\n",
            "\n",
            "---------------------------------------------------------------------------------------------------\n",
            "BASELINE HUMAN SUMMARY:\n",
            "although rare , dysgerminomas are important irrespective of incidence because they affect women of reproductive age ( i.e. , < 45 years ) . \n",
            " dysgerminomas make up two thirds of all malignant ovarian neoplasms in women younger than 20 years . \n",
            " all dysgerminomas are considered malignant , but only one third of dysgerminomas behave aggressively . \n",
            " their exact etiology has not been determined . \n",
            " few reports are found in the review of the literature on the incidence of dysgerminoma and other germ cell tumors in families . \n",
            " some of these reports focus on the genetic abnormalities associated with germ cell tumor and the responsible gene . \n",
            " two cases of dysgerminomas diagnosed in two sisters aged 14 and 19 years old are presented here with their radiological studies .\n",
            "\n",
            "---------------------------------------------------------------------------------------------------\n",
            "MODEL GENERATION - ZERO SHOT:\n",
            "\n",
            "Summarize the following conversation.\n",
            "\n",
            "### Input:\n",
            "the north american association of central cancer registries reported in the period from 1992 to 1997 more than 1.6 million females with the diagnosis of cancer . of these , 67,746 were ovarian cancers , 1563 ( or 2.3% ) of which occurred in patients younger than 25 . \n",
            " close to 50% ( 780 cases ) were reported in women aged 20 to 24 , 481 cases in the 15- to 19-year - old group , and 302 cases in the neonates to the 14-year - old group.1 the three major types of ovarian tumors are epithelial , sex cord , and germ cell . \n",
            " epithelial cell tumors represent the majority of all ovarian neoplasms ( 82%).conversely , germ cell tumors ( gcts ) are rare , comprising approximately 20% of all ovarian tumors , both benign and malignant . \n",
            " the most commonly occurring gct is the dysgerminoma , which accounts for only 1 - 5% of all ovarian cancers.26 in the literature search using pubmed , midline search and google , some reports on the incidence of dysgerminoma in families were found . \n",
            " i am presenting two cases of dysgerminomas diagnosed in two sisters aged 14 and 19 years . \n",
            " the first patient is a 14-year - old saudi single female who presented at the emergency department with a prolonged history of pelvic and lower abdominal swelling associated with a dull pelvic pain and anorexia . \n",
            " physical examination revealed huge abdomenopelvic mass with mild tenderness over pelvis and lower abdomen . on inspection , \n",
            " the patient was referred for ultrasound examination and the study ( not shown ) revealed a large mass measuring 1216 cm arising from the right adnexa with upward extension into the abdomen . \n",
            " ultrasound examination of the abdomen showed bilateral dilatation of pelvicalyceal system and upper ureters consistent with bilateral hydrouretro - nephrosis . \n",
            " magnetic resonance imaging ( mri ) of the pelvis ( figure 1 ) showed a large encapsulated mass arising from right adnexa with upward extension into abdominal cavity displacing and compressing both uterus and urinary bladder anteriorly and inferiorly . \n",
            " the mass was non - homogeneous with predominantly intermediate signal intensity in proton density images , and contained multiple cystic spaces representing previous tumor hemorrhage . \n",
            " two consequent saggital proton density mri of the pelvis showing a large mass arising from adnexa with upward extension into abdominal cavity . \n",
            " the mass appears of intermediate signal intensity with multiple internal foci of high signal intensity . \n",
            " mass effect on adjacent structures such as the uterus , urinary bladder and rectum is seen . \n",
            " intravenous urography ( figure 2 ) showed bilateral laterally displaced and dilated ureters with bilateral hydronephrosis . \n",
            " single film of ivp series showing lateral deviation of both pelvic ureters by a large pelvic mass with bilateral hydronephrosis . \n",
            " the patient was operated on and the treatment consisted of simple right salpingo - oophorectomy followed by adjuvant radiotherapy and chemotherapy . \n",
            " examination of the surgical specimen revealed pure dysgerminoma ( stage one a ) arising from the right ovary . \n",
            " the follow - up of thirty months confirmed that the patient was in good health with normal ultrasound and laboratory results . \n",
            " two years later , her sister presented at the age of 19 with lower abdominal mass , mild pain and dysmenorrhea . \n",
            " physical examination showed a palpable mass in the lower abdomen and pelvis with mild tenderness . \n",
            " the patient was referred to the radiology department where ultrasound , computerized tomography ( ct ) scan ( figures 3 and 4 ) and mri were done . \n",
            " the imaging features of the mass were almost the same as in the first patient . \n",
            " the patient was operated on and the mass was found to have arisen from the left ovary with no macroscopic invasion of surrounding structures . \n",
            " two consequent contrast enhanced axial ct scan images of the pelvis showing irregular heterogeneously enhancing mass arising from left adnexa with upward extension . \n",
            " two sagittally reconstructed ct scan images showing a large mass arising from the pelvis , displacing the urinary bladder and uterus anteriorly and inferiorly . \n",
            " the mass appears isodense to the muscles and contains multiple areas of low densities representing cystic changes . \n",
            " patients present with a unilateral , predominantly solid mass with varying degrees of necrosis and hemorrhage . \n",
            " the patients are treated with unilateral salpingo - oophorectomy and chemotherapy.78 dysgerminomas are bilateral in 10 - 35% of cases . \n",
            " they may have a 46xy karyotype with pure gonadal dysgenesis or androgen insensitivity syndrome , or they may have a 45x , 46xy karyotype with mixed gonadal dysgenesis.910 in patients with a known or suspected adnexal mass , ultrasound is highly accurate in the assessment of the location of the tumor ( e.g. , differentiation of uterine from adnexal masses ) and in distinguishing between a benign and malignant adnexal lesion . \n",
            " the optimal use of ultrasound requires the analysis of morphologic features and doppler findings.1114 ovarian masses with septations greater than 3 mm , mural nodularity , and papillary projections suggest the diagnosis of malignant ovarian neoplasm.1517 the most significant feature is the presence of solid components within an ovarian mass,18 other features suggesting malignant etiology include vascular septations thicker than 3 mm , septal nodularity , and single or multiple enhancing solid components within a cystic mass.1920 necrosis within a solid lesion is also a strong indicator of malignancy . in our cases , \n",
            " many of these features such as solid components , central necrosis , heterogeneity , free fluid and central increased vscularity were present . \n",
            " central color doppler flow within solid components of an ovarian mass has been shown to be an accurate predictor of malignancy.182122 brown and colleagues18 studied 211 adnexal masses , including 28 malignancies to determine the best discrimination between benignity and malignancy by gray - scale and doppler . a nonhyperechoic solid component within a mass , central blood flow on color doppler imaging , free intraperitoneal fluid , and septations within a mass had 93% sensitivity and 93% specificity for diagnosis of malignancy . in a setting of \n",
            " sonographically indeterminate adnexal masses , mr imaging is used as a problem - solving tool . \n",
            " the main advantage of mr imaging is that it can provide tissue characterization based on signal properties.23 for adequate evaluation of adnexal masses on mr imaging , t1-weighted and t2- weighted images are fundamental in the delineation of pelvic anatomy and tumor . \n",
            " gadolinium - enhanced t1-weighted images help to characterize the internal architecture of cystic lesions and improve the detection of solid components.2425 mr imaging has been shown to be superior to doppler ultrasound and conventional ct in the diagnosis of malignant ovarian masses [ the estimated area under receiver operating characteristic curve ( auc ) was 0.78 for ultrasound , 0.87 for ct , and 0.91 for mr imaging].26 although ct has not traditionally been used in the characterization of an adnexal mass , studies have shown that the utility of thin - section multislice ct is equivalent to that of ultrasound . \n",
            " ct characterization of adnexal mass relies on the depiction of morphologic features of enhancing mural nodularity or heterogeneity and necrosis within a solid lesion . \n",
            " ancillary findings , such as ascites and peritoneal carcinomatosis on ultrasound , ct , or mr imaging are strong indicators of a malignant etiology for an adnexal mass . several cases of families with both males and females diagnosed with germ cell cancers have been documented . \n",
            " the low incidence of ovarian germ cell cancers suggests that multiple occurrences in the same family may not be due to chance . \n",
            " rather , it is possible that a gene that confers susceptibility to ovarian germ cell cancers , and possibly to germ cell tumors in males as well , is present in at least some of these families.27 the primary goal of radiologic assessment is the differentiation of malignant tumors from benign tumors , rather than determination of histologic subtype . sometimes , it is possible , however , to suggest the histologic subtype of an epithelial neoplasm based on particular imaging features . \n",
            " i would like , in conclusion , to recommend an early diagnosis . with the availability of recent imaging techniques , \n",
            " a full radiological investigation could be done to search for metastasis , evaluate the adjacent organs , and give an early referral to the oncology center since the tumor is chemo - sensitive .\n",
            "\n",
            "### Summary:\n",
            "\n",
            "\n",
            "\n",
            "\n",
            "\n",
            "\n",
            "\n",
            "\n",
            "\n",
            "\n",
            "\n",
            "\n",
            "\n",
            "\n",
            "\n",
            "\n",
            "\n",
            "\n",
            "\n",
            "\n",
            "\n",
            "\n",
            "\n",
            "\n",
            "\n",
            "\n",
            "\n",
            "\n",
            "\n",
            "\n",
            "\n",
            "\n",
            "\n",
            "\n",
            "\n",
            "\n",
            "\n",
            "\n",
            "\n",
            "\n",
            "\n",
            "\n",
            "\n",
            "\n",
            "\n",
            "\n",
            "\n",
            "\n",
            "\n",
            "\n",
            "\n",
            "\n",
            "\n",
            "\n",
            "\n",
            "\n",
            "\n",
            "\n",
            "\n",
            "\n",
            "\n",
            "\n",
            "\n",
            "\n",
            "\n",
            "\n",
            "\n",
            "\n",
            "\n",
            "\n",
            "\n",
            "\n",
            "\n",
            "\n",
            "\n",
            "\n",
            "\n",
            "\n",
            "\n",
            "\n",
            "\n",
            "\n",
            "\n",
            "\n",
            "\n",
            "\n",
            "\n",
            "\n",
            "\n",
            "\n",
            "\n",
            "\n",
            "\n",
            "\n",
            "\n",
            "\n",
            "\n",
            "\n",
            "\n",
            "\n",
            "\n"
          ]
        }
      ]
    },
    {
      "cell_type": "markdown",
      "source": [
        "# TRAINING STEP (FINE TUNING"
      ],
      "metadata": {
        "id": "tv1ansGc9Tjf"
      }
    },
    {
      "cell_type": "code",
      "source": [
        "from peft import prepare_model_for_kbit_training\n",
        "\n",
        "def print_trainable_parameters(model):\n",
        "    \"\"\"\n",
        "    Prints the number of trainable parameters in the model.\n",
        "    \"\"\"\n",
        "    trainable_params = 0\n",
        "    all_param = 0\n",
        "    for _, param in model.named_parameters():\n",
        "\n",
        "        all_param += param.numel()\n",
        "        if param.requires_grad:\n",
        "            trainable_params += param.numel()\n",
        "    print(\n",
        "        f\"trainable params: {trainable_params} || all params: {all_param} || trainable%: {100 * trainable_params / all_param}\"\n",
        "    )\n",
        "\n",
        "\n",
        "model.gradient_checkpointing_enable()\n",
        "model = prepare_model_for_kbit_training(model)\n",
        "print(model)"
      ],
      "metadata": {
        "colab": {
          "base_uri": "https://localhost:8080/"
        },
        "id": "W2em3abk9jVr",
        "outputId": "3e209df8-b665-42ab-bc94-204ed44253bf"
      },
      "execution_count": 12,
      "outputs": [
        {
          "output_type": "stream",
          "name": "stdout",
          "text": [
            "LlamaForCausalLM(\n",
            "  (model): LlamaModel(\n",
            "    (embed_tokens): Embedding(32000, 4096, padding_idx=0)\n",
            "    (layers): ModuleList(\n",
            "      (0-31): 32 x LlamaDecoderLayer(\n",
            "        (self_attn): LlamaAttention(\n",
            "          (q_proj): Linear4bit(in_features=4096, out_features=4096, bias=False)\n",
            "          (k_proj): Linear4bit(in_features=4096, out_features=4096, bias=False)\n",
            "          (v_proj): Linear4bit(in_features=4096, out_features=4096, bias=False)\n",
            "          (o_proj): Linear4bit(in_features=4096, out_features=4096, bias=False)\n",
            "        )\n",
            "        (mlp): LlamaMLP(\n",
            "          (gate_proj): Linear4bit(in_features=4096, out_features=11008, bias=False)\n",
            "          (up_proj): Linear4bit(in_features=4096, out_features=11008, bias=False)\n",
            "          (down_proj): Linear4bit(in_features=11008, out_features=4096, bias=False)\n",
            "          (act_fn): SiLU()\n",
            "        )\n",
            "        (input_layernorm): LlamaRMSNorm((4096,), eps=1e-05)\n",
            "        (post_attention_layernorm): LlamaRMSNorm((4096,), eps=1e-05)\n",
            "      )\n",
            "    )\n",
            "    (norm): LlamaRMSNorm((4096,), eps=1e-05)\n",
            "    (rotary_emb): LlamaRotaryEmbedding()\n",
            "  )\n",
            "  (lm_head): Linear(in_features=4096, out_features=32000, bias=False)\n",
            ")\n"
          ]
        }
      ]
    },
    {
      "cell_type": "markdown",
      "source": [
        "# Peft Model define"
      ],
      "metadata": {
        "id": "E3WCImfo91Fj"
      }
    },
    {
      "cell_type": "code",
      "source": [
        "from peft import LoraConfig, get_peft_model\n",
        "\n",
        "lora_config = LoraConfig(\n",
        "    r=16,\n",
        "    lora_alpha=64,\n",
        "    target_modules=[\"q_proj\", \"k_proj\", \"v_proj\", \"o_proj\"], #specific to Llama models.\n",
        "    lora_dropout=0.1,\n",
        "    bias=\"none\",\n",
        "    task_type=\"CAUSAL_LM\"\n",
        ")\n",
        "\n",
        "model = get_peft_model(model, lora_config)\n",
        "print_trainable_parameters(model)"
      ],
      "metadata": {
        "colab": {
          "base_uri": "https://localhost:8080/"
        },
        "id": "n77qKbte9jxO",
        "outputId": "3eac2671-396f-4095-98fc-780585a6a5ce"
      },
      "execution_count": 13,
      "outputs": [
        {
          "output_type": "stream",
          "name": "stdout",
          "text": [
            "trainable params: 16777216 || all params: 3517190144 || trainable%: 0.477006226934315\n"
          ]
        }
      ]
    },
    {
      "cell_type": "markdown",
      "source": [
        "# Defining the training arguements"
      ],
      "metadata": {
        "id": "7BWieF4392wl"
      }
    },
    {
      "cell_type": "code",
      "source": [
        "from transformers import TrainingArguments\n",
        "import time\n",
        "\n",
        "\n",
        "OUTPUT_DIR = f\"llama2-summarizations-adapter-models-{time.time()}\"\n",
        "\n",
        "training_arguments = TrainingArguments(\n",
        "    per_device_train_batch_size=4,\n",
        "    gradient_accumulation_steps=4,\n",
        "    optim=\"paged_adamw_32bit\",\n",
        "    logging_steps=1,\n",
        "    learning_rate=1e-4,\n",
        "    fp16=True,\n",
        "    max_grad_norm=0.3,\n",
        "    num_train_epochs=3,\n",
        "    evaluation_strategy=\"steps\",\n",
        "    eval_steps=0.2,\n",
        "    warmup_ratio=0.05,\n",
        "    save_strategy=\"epoch\",\n",
        "    group_by_length=True,\n",
        "    output_dir=OUTPUT_DIR,\n",
        "    # report_to=\"tensorboard\",\n",
        "    report_to=[\"wandb\", \"tensorboard\"],\n",
        "    push_to_hub=True,\n",
        "    save_safetensors=True,\n",
        "    lr_scheduler_type=\"cosine\",\n",
        "    seed=42,\n",
        ")\n",
        "model.config.use_cache = False  # silence the warnings. Please re-enable for inference!"
      ],
      "metadata": {
        "id": "2V9uyLjJ96Ve"
      },
      "execution_count": 14,
      "outputs": []
    },
    {
      "cell_type": "code",
      "source": [
        "from trl import SFTTrainer\n",
        "\n",
        "trainer = SFTTrainer(\n",
        "    model=model,\n",
        "    train_dataset=train_data,\n",
        "    eval_dataset=validation_data,\n",
        "    peft_config=lora_config,\n",
        "    dataset_text_field=\"text\",\n",
        "    max_seq_length=1024,\n",
        "    tokenizer=tokenizer,\n",
        "    args=training_arguments,\n",
        ")"
      ],
      "metadata": {
        "colab": {
          "base_uri": "https://localhost:8080/",
          "height": 86,
          "referenced_widgets": [
            "89f4aa0efdf84b8e88d4f65ba39fe966",
            "95b470a4ff3045c9bb576943dcb48c8f",
            "bfa67f2c857f440792ba4e1e23fd6633",
            "1ae56fb49b5c4765997e091d6dc0cf08",
            "7561e27d88ef463c81aa48d1c498c402",
            "e319cbe83ab84093980588a393b0f1a1",
            "4432f7188f8446a8958a1a67e5a71ca7",
            "507abdfff0b641679a146c8d7165f7a3",
            "4965ab65ff8048cdb44115e4891a2a2d",
            "3d48d00faf1941bda5eb115bca1b5ab7",
            "c5571514f7c649a58eb102f949c967fc"
          ]
        },
        "id": "1SzoLeG59_Ey",
        "outputId": "85d6ff8e-818e-44d5-8b7d-f84affe32589"
      },
      "execution_count": 15,
      "outputs": [
        {
          "output_type": "display_data",
          "data": {
            "text/plain": [
              "Map:   0%|          | 0/100 [00:00<?, ? examples/s]"
            ],
            "application/vnd.jupyter.widget-view+json": {
              "version_major": 2,
              "version_minor": 0,
              "model_id": "89f4aa0efdf84b8e88d4f65ba39fe966"
            }
          },
          "metadata": {}
        },
        {
          "output_type": "stream",
          "name": "stderr",
          "text": [
            "No label_names provided for model class `PeftModelForCausalLM`. Since `PeftModel` hides base models input arguments, if label_names is not given, label_names can't be set automatically within `Trainer`. Note that empty label_names list will be used instead.\n"
          ]
        }
      ]
    },
    {
      "cell_type": "code",
      "source": [
        "trainer.train()"
      ],
      "metadata": {
        "colab": {
          "base_uri": "https://localhost:8080/",
          "height": 394
        },
        "id": "IvQsgVN8-ARx",
        "outputId": "2b74467d-e311-4d31-e997-d3a4e6fd7008"
      },
      "execution_count": 16,
      "outputs": [
        {
          "output_type": "stream",
          "name": "stderr",
          "text": [
            "\u001b[34m\u001b[1mwandb\u001b[0m: \u001b[33mWARNING\u001b[0m The `run_name` is currently set to the same value as `TrainingArguments.output_dir`. If this was not intended, please specify a different run name by setting the `TrainingArguments.run_name` parameter.\n",
            "\u001b[34m\u001b[1mwandb\u001b[0m: Using wandb-core as the SDK backend.  Please refer to https://wandb.me/wandb-core for more information.\n",
            "\u001b[34m\u001b[1mwandb\u001b[0m: Currently logged in as: \u001b[33mvipulgote4\u001b[0m (\u001b[33mexistence\u001b[0m) to \u001b[32mhttps://api.wandb.ai\u001b[0m. Use \u001b[1m`wandb login --relogin`\u001b[0m to force relogin\n"
          ]
        },
        {
          "output_type": "display_data",
          "data": {
            "text/plain": [
              "<IPython.core.display.HTML object>"
            ],
            "text/html": [
              "Tracking run with wandb version 0.19.8"
            ]
          },
          "metadata": {}
        },
        {
          "output_type": "display_data",
          "data": {
            "text/plain": [
              "<IPython.core.display.HTML object>"
            ],
            "text/html": [
              "Run data is saved locally in <code>/content/wandb/run-20250401_153950-b8x350xg</code>"
            ]
          },
          "metadata": {}
        },
        {
          "output_type": "display_data",
          "data": {
            "text/plain": [
              "<IPython.core.display.HTML object>"
            ],
            "text/html": [
              "Syncing run <strong><a href='https://wandb.ai/existence/huggingface/runs/b8x350xg' target=\"_blank\">llama2-summarizations-adapter-models-1743521986.1225166</a></strong> to <a href='https://wandb.ai/existence/huggingface' target=\"_blank\">Weights & Biases</a> (<a href='https://wandb.me/developer-guide' target=\"_blank\">docs</a>)<br>"
            ]
          },
          "metadata": {}
        },
        {
          "output_type": "display_data",
          "data": {
            "text/plain": [
              "<IPython.core.display.HTML object>"
            ],
            "text/html": [
              " View project at <a href='https://wandb.ai/existence/huggingface' target=\"_blank\">https://wandb.ai/existence/huggingface</a>"
            ]
          },
          "metadata": {}
        },
        {
          "output_type": "display_data",
          "data": {
            "text/plain": [
              "<IPython.core.display.HTML object>"
            ],
            "text/html": [
              " View run at <a href='https://wandb.ai/existence/huggingface/runs/b8x350xg' target=\"_blank\">https://wandb.ai/existence/huggingface/runs/b8x350xg</a>"
            ]
          },
          "metadata": {}
        },
        {
          "output_type": "display_data",
          "data": {
            "text/plain": [
              "<IPython.core.display.HTML object>"
            ],
            "text/html": [
              "\n",
              "    <div>\n",
              "      \n",
              "      <progress value='186' max='186' style='width:300px; height:20px; vertical-align: middle;'></progress>\n",
              "      [186/186 2:32:18, Epoch 2/3]\n",
              "    </div>\n",
              "    <table border=\"1\" class=\"dataframe\">\n",
              "  <thead>\n",
              " <tr style=\"text-align: left;\">\n",
              "      <th>Step</th>\n",
              "      <th>Training Loss</th>\n",
              "      <th>Validation Loss</th>\n",
              "    </tr>\n",
              "  </thead>\n",
              "  <tbody>\n",
              "    <tr>\n",
              "      <td>38</td>\n",
              "      <td>1.686400</td>\n",
              "      <td>1.592302</td>\n",
              "    </tr>\n",
              "    <tr>\n",
              "      <td>76</td>\n",
              "      <td>1.572700</td>\n",
              "      <td>1.577435</td>\n",
              "    </tr>\n",
              "    <tr>\n",
              "      <td>114</td>\n",
              "      <td>1.550800</td>\n",
              "      <td>1.570868</td>\n",
              "    </tr>\n",
              "    <tr>\n",
              "      <td>152</td>\n",
              "      <td>1.484500</td>\n",
              "      <td>1.570034</td>\n",
              "    </tr>\n",
              "  </tbody>\n",
              "</table><p>"
            ]
          },
          "metadata": {}
        },
        {
          "output_type": "execute_result",
          "data": {
            "text/plain": [
              "TrainOutput(global_step=186, training_loss=1.6106457511583965, metrics={'train_runtime': 9189.1049, 'train_samples_per_second': 0.326, 'train_steps_per_second': 0.02, 'total_flos': 1.1902384589134234e+17, 'train_loss': 1.6106457511583965, 'epoch': 2.96})"
            ]
          },
          "metadata": {},
          "execution_count": 16
        }
      ]
    },
    {
      "cell_type": "code",
      "source": [
        "peft_model_path=\"./peft-summary\"\n",
        "\n",
        "trainer.model.save_pretrained(peft_model_path)\n",
        "tokenizer.save_pretrained(peft_model_path)"
      ],
      "metadata": {
        "colab": {
          "base_uri": "https://localhost:8080/"
        },
        "id": "wT5C8_bX_bKT",
        "outputId": "7280d8cc-4ced-4eb4-c916-1205c0725c2b"
      },
      "execution_count": 17,
      "outputs": [
        {
          "output_type": "execute_result",
          "data": {
            "text/plain": [
              "('./peft-summary/tokenizer_config.json',\n",
              " './peft-summary/special_tokens_map.json',\n",
              " './peft-summary/tokenizer.model',\n",
              " './peft-summary/added_tokens.json',\n",
              " './peft-summary/tokenizer.json')"
            ]
          },
          "metadata": {},
          "execution_count": 17
        }
      ]
    },
    {
      "cell_type": "markdown",
      "source": [
        "# Inferance"
      ],
      "metadata": {
        "id": "bAFP53Da_dPH"
      }
    },
    {
      "cell_type": "code",
      "source": [
        "from transformers import TextStreamer\n",
        "\n",
        "model.config.use_cache = True\n",
        "model.eval()"
      ],
      "metadata": {
        "colab": {
          "base_uri": "https://localhost:8080/"
        },
        "id": "Lf_jEbci_cl-",
        "outputId": "23acfa61-1ed9-4b6b-f60b-69785fa4d054"
      },
      "execution_count": 18,
      "outputs": [
        {
          "output_type": "execute_result",
          "data": {
            "text/plain": [
              "PeftModelForCausalLM(\n",
              "  (base_model): LoraModel(\n",
              "    (model): LlamaForCausalLM(\n",
              "      (model): LlamaModel(\n",
              "        (embed_tokens): Embedding(32000, 4096, padding_idx=0)\n",
              "        (layers): ModuleList(\n",
              "          (0-31): 32 x LlamaDecoderLayer(\n",
              "            (self_attn): LlamaAttention(\n",
              "              (q_proj): lora.Linear4bit(\n",
              "                (base_layer): Linear4bit(in_features=4096, out_features=4096, bias=False)\n",
              "                (lora_dropout): ModuleDict(\n",
              "                  (default): Dropout(p=0.1, inplace=False)\n",
              "                )\n",
              "                (lora_A): ModuleDict(\n",
              "                  (default): Linear(in_features=4096, out_features=16, bias=False)\n",
              "                )\n",
              "                (lora_B): ModuleDict(\n",
              "                  (default): Linear(in_features=16, out_features=4096, bias=False)\n",
              "                )\n",
              "                (lora_embedding_A): ParameterDict()\n",
              "                (lora_embedding_B): ParameterDict()\n",
              "                (lora_magnitude_vector): ModuleDict()\n",
              "              )\n",
              "              (k_proj): lora.Linear4bit(\n",
              "                (base_layer): Linear4bit(in_features=4096, out_features=4096, bias=False)\n",
              "                (lora_dropout): ModuleDict(\n",
              "                  (default): Dropout(p=0.1, inplace=False)\n",
              "                )\n",
              "                (lora_A): ModuleDict(\n",
              "                  (default): Linear(in_features=4096, out_features=16, bias=False)\n",
              "                )\n",
              "                (lora_B): ModuleDict(\n",
              "                  (default): Linear(in_features=16, out_features=4096, bias=False)\n",
              "                )\n",
              "                (lora_embedding_A): ParameterDict()\n",
              "                (lora_embedding_B): ParameterDict()\n",
              "                (lora_magnitude_vector): ModuleDict()\n",
              "              )\n",
              "              (v_proj): lora.Linear4bit(\n",
              "                (base_layer): Linear4bit(in_features=4096, out_features=4096, bias=False)\n",
              "                (lora_dropout): ModuleDict(\n",
              "                  (default): Dropout(p=0.1, inplace=False)\n",
              "                )\n",
              "                (lora_A): ModuleDict(\n",
              "                  (default): Linear(in_features=4096, out_features=16, bias=False)\n",
              "                )\n",
              "                (lora_B): ModuleDict(\n",
              "                  (default): Linear(in_features=16, out_features=4096, bias=False)\n",
              "                )\n",
              "                (lora_embedding_A): ParameterDict()\n",
              "                (lora_embedding_B): ParameterDict()\n",
              "                (lora_magnitude_vector): ModuleDict()\n",
              "              )\n",
              "              (o_proj): lora.Linear4bit(\n",
              "                (base_layer): Linear4bit(in_features=4096, out_features=4096, bias=False)\n",
              "                (lora_dropout): ModuleDict(\n",
              "                  (default): Dropout(p=0.1, inplace=False)\n",
              "                )\n",
              "                (lora_A): ModuleDict(\n",
              "                  (default): Linear(in_features=4096, out_features=16, bias=False)\n",
              "                )\n",
              "                (lora_B): ModuleDict(\n",
              "                  (default): Linear(in_features=16, out_features=4096, bias=False)\n",
              "                )\n",
              "                (lora_embedding_A): ParameterDict()\n",
              "                (lora_embedding_B): ParameterDict()\n",
              "                (lora_magnitude_vector): ModuleDict()\n",
              "              )\n",
              "            )\n",
              "            (mlp): LlamaMLP(\n",
              "              (gate_proj): Linear4bit(in_features=4096, out_features=11008, bias=False)\n",
              "              (up_proj): Linear4bit(in_features=4096, out_features=11008, bias=False)\n",
              "              (down_proj): Linear4bit(in_features=11008, out_features=4096, bias=False)\n",
              "              (act_fn): SiLU()\n",
              "            )\n",
              "            (input_layernorm): LlamaRMSNorm((4096,), eps=1e-05)\n",
              "            (post_attention_layernorm): LlamaRMSNorm((4096,), eps=1e-05)\n",
              "          )\n",
              "        )\n",
              "        (norm): LlamaRMSNorm((4096,), eps=1e-05)\n",
              "        (rotary_emb): LlamaRotaryEmbedding()\n",
              "      )\n",
              "      (lm_head): Linear(in_features=4096, out_features=32000, bias=False)\n",
              "    )\n",
              "  )\n",
              ")"
            ]
          },
          "metadata": {},
          "execution_count": 18
        }
      ]
    },
    {
      "cell_type": "code",
      "source": [
        "from peft import AutoPeftModelForCausalLM\n",
        "from transformers import AutoTokenizer\n",
        "\n",
        "trained_model = AutoPeftModelForCausalLM.from_pretrained(\n",
        "    peft_model_path,\n",
        "    low_cpu_mem_usage=True,\n",
        "    torch_dtype=torch.float16,\n",
        "    load_in_4bit=True,\n",
        ")\n",
        "\n",
        "tokenizer = AutoTokenizer.from_pretrained(peft_model_path)"
      ],
      "metadata": {
        "colab": {
          "base_uri": "https://localhost:8080/",
          "height": 86,
          "referenced_widgets": [
            "4c5ee1f5b3ac4bc0b30090c17e7554a3",
            "270d8de3d80a44749f827a6e2bc899f6",
            "625d4287c39b4f158ec0c7687d19426e",
            "8307797b2be0462fbec95d2ca5c90900",
            "1bb891f227f94f05a599db1814cb46f2",
            "8658cb4e396f4db08beb94bb836c9e43",
            "10f7c9f0c63a43da92dd733c4498b0dc",
            "326a4b3a18624244b18a7c5f1bc6f581",
            "02a1520e65a4456fb90b25883553ea29",
            "e5cada1f8ac04384866b16ca364aa840",
            "11aadb48cda5453aa60fab197a190937"
          ]
        },
        "id": "uPporbmx_eyT",
        "outputId": "aebb7df7-c4e2-4aee-b56a-4fd26d3a57d5"
      },
      "execution_count": 19,
      "outputs": [
        {
          "output_type": "stream",
          "name": "stderr",
          "text": [
            "The `load_in_4bit` and `load_in_8bit` arguments are deprecated and will be removed in the future versions. Please, pass a `BitsAndBytesConfig` object in `quantization_config` argument instead.\n"
          ]
        },
        {
          "output_type": "display_data",
          "data": {
            "text/plain": [
              "Loading checkpoint shards:   0%|          | 0/2 [00:00<?, ?it/s]"
            ],
            "application/vnd.jupyter.widget-view+json": {
              "version_major": 2,
              "version_minor": 0,
              "model_id": "4c5ee1f5b3ac4bc0b30090c17e7554a3"
            }
          },
          "metadata": {}
        }
      ]
    },
    {
      "cell_type": "markdown",
      "source": [
        "# One Sample based Infereance after finetuning"
      ],
      "metadata": {
        "id": "uNciv5E_-EEt"
      }
    },
    {
      "cell_type": "code",
      "source": [
        "index = 51\n",
        "\n",
        "dialogue = train_data['article'][index][:10000]\n",
        "summary = train_data['abstract'][index]\n",
        "\n",
        "prompt = f\"\"\"\n",
        "Summarize the following conversation.\n",
        "\n",
        "### Input:\n",
        "{dialogue}\n",
        "\n",
        "### Summary:\n",
        "\"\"\"\n",
        "\n",
        "input_ids = tokenizer(prompt, return_tensors='pt',truncation=True).input_ids.cuda()\n",
        "outputs = trained_model.generate(input_ids=input_ids, max_new_tokens=200, )\n",
        "output= tokenizer.batch_decode(outputs.detach().cpu().numpy(), skip_special_tokens=True)[0][len(prompt):]\n",
        "\n",
        "dash_line = '-'.join('' for x in range(100))\n",
        "print(dash_line)\n",
        "print(f'INPUT PROMPT:\\n{prompt}')\n",
        "print(dash_line)\n",
        "print(f'BASELINE HUMAN SUMMARY:\\n{summary}\\n')\n",
        "print(dash_line)\n",
        "print(f'TRAINED MODEL GENERATED TEXT :\\n{output}')"
      ],
      "metadata": {
        "colab": {
          "base_uri": "https://localhost:8080/"
        },
        "id": "8W6PDlSd-FZy",
        "outputId": "8283b253-9793-4d11-9483-64ef657d5086"
      },
      "execution_count": 20,
      "outputs": [
        {
          "output_type": "stream",
          "name": "stderr",
          "text": [
            "Asking to truncate to max_length but no maximum length is provided and the model has no predefined maximum length. Default to no truncation.\n"
          ]
        },
        {
          "output_type": "stream",
          "name": "stdout",
          "text": [
            "---------------------------------------------------------------------------------------------------\n",
            "INPUT PROMPT:\n",
            "\n",
            "Summarize the following conversation.\n",
            "\n",
            "### Input:\n",
            "in the course of treating cancer patients hospitalized for surgical procedures , health providers variably utilize multiple processes of care . \n",
            " processes of care , defined by the centers for medicare and medicaid services ( cms ) as a  series of interrelated activities undertaken to achieve objectives ,  are believed to be integral components of safe and effective care received by surgery patients , based on a belief that they prevent or ameliorate the impact of complications 1 . for the most part , these processes are optional and under the control of the surgical and anesthetic teams . \n",
            " the cmsmonitored processes are an important component of treatment to study , because they are readily quantified and more accepted by providers as indicators of their individual quality compared to outcome measures attributable to patient characteristics which are outside of provider control 2 , 3 . within the oncology field , surgery is often a primary component of treatment and in many cases the only treatment modality that offers a chance for cure . \n",
            " the episode of oncologic surgery care includes many embedded processes of care . despite frequent use \n",
            " nonetheless , health care providers assume that they represent timely and effective interventions that avoid complications and achieve better patient outcomes through safer and more rapid recoveries 4 , 5 . \n",
            " furthermore , by avoiding and/or ameliorating complications , they are assumed to be cost effective . \n",
            " the direct costs of medical care for cancer reached $ 86.6 billion in 2009 6 . \n",
            " looking forward , the national cancer institute estimates that cancerspecific care costs will grow more quickly than overall medical expenditures 7.within surgical oncology , however , there is little consensus on whether the addition of processes of care raise expenditures ( via increased resource utilization ) or lower costs ( via increased efficiency and lower postoperative length of stay ) . and while previous literature has found that surgical complications raise costs for cancer surgery 8 , 9 , 10 , 11 , much less is known about which services to remediate complications are the most costly 9 , 12 , 13 . delivering costeffective cancer surgery \n",
            " requires better knowledge of how individual processes influence the overall cost of inpatient care , and which strategies used to prevent or ameliorate complications are the most costly . \n",
            " only one previous study has examined the relationship between these processes of care and patient mortality , finding that the differences in process utilization did not drive the volumemortality relationship 14 . \n",
            " to date , no studies have examined the relationship between these same processes and costs of care using administrative or more detailed clinical data . \n",
            " given the lack of correlation between processes of care and mortality , measurement of the association between processes and costs may provide valuable information on the denominator of the value equation that has been proposed by michael porter as a more patientcentric version of the traditional definition of value ( porter 's value = patient outcome / cost across the episode of care ) 15 . \n",
            " although individual processes can not explain all of the cost differentials in cancer surgery , given how little we know about cost drivers , the proposed analysis represents an important first step in examining these relationships 16 . \n",
            " the analytical methods used were similar to our previously published study of the association between surgical complications and costs 17 . \n",
            " patientlevel medicare claims data from all 50 states for the years 20052009 were used to analyze the relationships between processes of care and costs for six cancer resections : colectomy ( n  =  140,146 ) , rectal resection ( n  =  24,283 ) , \n",
            " pulmonary lobectomy ( n  =  48,224 ) , pneumonectomy ( n  =  2,808 ) , esophagectomy ( n  =  3,717 ) , and pancreatic resection ( n  =  11,668 ) . the 100% medpar files and carrier files were merged . \n",
            " icd9cm diagnosis and procedure codes were used to confirm that the cancer indication matched the resection type as a requirement for inclusion in the study ( table si in the supplement ) 18 . \n",
            " the medpar data provided detailed information on hospital charges by revenue center for each discharge . \n",
            " following previously published methodology , costs for each hospital stay were estimated by multiplying the reported patient charge by the hospital 's costtocharge ratio in the same year 18 , 19 , 20 , 21 , 22 , 23 . \n",
            " next , all physician billings to medicare for the patient 's hospital stay were identified in the carrier claims files and summed to represent physician costs associated with the admission . \n",
            " lastly , hospital and physician costs were summed to calculate the explanatory variable of total costs per entire inpatient stay . \n",
            " the processes of care and services used to avoid and/or ameliorate complications that were included in these analyses focused on those common to highrisk procedures and those potentially related to morbidity and mortality . \n",
            " following methodologies previously used to assess the volumeprocess relationship in highrisk cancer surgery 14 , 24 , these services were identified by icd9cm procedure codes and cpt codes in the claims data ( table sii in the supplement ) . \n",
            " birkmeyer et al . developed this methodology by consulting the literature including a comprehensive review of hospital safety practices and expert clinicians , determining which forms of care could be defined using claims data , and performing pilot analyses to develop and test the coding 14 , 25 . \n",
            " each service was classified as intraoperative ( pulmonary artery catheter , arterial line , central venous catheter [ independent of pulmonary artery catheter ] , epidural analgesia , packed red blood cell transfusion / auto transfusion ) , or postoperative ( critical care consultation , inpatient consultation , total parenteral nutrition , daily epidural management ) . \n",
            " hospital volume was constructed by summing the total number of operations performed by each hospital in each year for each of the six cancer resections . \n",
            " additional hospital characteristics obtained from the american hospital association annual survey of hospitals and included in the analysis were the nursetopatient ratio and indicator variables for complex medical technologies which are more likely to be present at highvolume hospitals ( ct scanner , magnetic resonance imaging , positron emission tomography ) . in medicare cost reports , these equipment costs are allocated to patient cost centers used by cancer surgery patients , and therefore , may be associated with higher costs per patient . \n",
            " in addition , hospital fixed effects were used in the analysis to control for observed and unobserved factors that remained constant across the sample period . for statistical summary purposes , \n",
            " hospitals were identified as teaching or nonteaching and their geographical location was noted as a rural or urban area . \n",
            " to adjust for comorbidities , secondary diagnosis codes were used to construct indicator variables for the conditions comprising the elixhauser comorbidity index 26 . \n",
            " indicator variables were included for patients transferred from another hospital and urgent / emergent admissions . \n",
            " cancer stage was measured using secondary diagnosis codes for nodal involvement and organ metastasis 27 . to adjust for diseasespecific differences in procedure complexity and patient casemix , \n",
            " indicator variables were also defined for particular operations and surgical approaches specific to each procedure . \n",
            " procedure and tumor sites were defined based on previous studies of these operations that used icd9cm procedure and diagnosis codes 27 , 28 , 29 , 30 , 31 , 32 . \n",
            " subspecialty of the operating surgeon was identified using the medicare physician identification and eligibility registry . \n",
            " regressions were separately estimated for each cancer resection to assess the relationship between processes of care and the natural log of total costs . \n",
            " similar to previously published statistical techniques , each cost regression was adjusted for all of the hospital , patient , and surgeon characteristics listed above  with the exception of teaching and rural indicators and performed using panel data with year and hospital fixed effects ( table siii in the supplement ) 14 , 17 , 28 , 33 , 34 . \n",
            " regressions were estimated using the xtreg command in stata version 12.1 ( statacorp , college station , tx ) with specifications to provide robust standard errors to account for clustering of patient data within hospitals 17 . \n",
            " the medpar data provided detailed information on hospital charges by revenue center for each discharge . \n",
            " following previously published methodology , costs for each hospital stay were estimated by multiplying the reported patient charge by the hospital 's costtocharge ratio in the same year 18 , 19 , 20 , 21 , 22 , 23 . \n",
            " next , all physician billings to medicare for the patient 's hospital stay were identified in the carrier claims files and summed to represent physician costs associated with the admission . \n",
            " lastly , hospital and physician costs were summed to calculate the explanatory variable of total costs per entire inpatient stay . \n",
            " the processes of care and services used to avoid and/or ameliorate complications that were included in these analyses focused on those common to highrisk procedures and those potentially related to morbidity and mortality . \n",
            " following methodologies previously used to assess the volumeprocess relationship in highrisk cancer surgery 14 , 24 , these services were identified by icd9cm procedure codes and cpt codes in the claims data ( table sii in the supplement ) . \n",
            " birkmeyer et al . developed this methodology by consulting the literature including a comprehensive review of hospital safety practices and expert clinicians , determining which forms of care could be defined using claims d\n",
            "\n",
            "### Summary:\n",
            "\n",
            "---------------------------------------------------------------------------------------------------\n",
            "BASELINE HUMAN SUMMARY:\n",
            "background and objectiveshealth care providers add multiple processes to the care of complex cancer patients , believing they prevent and/or ameliorate complications . \n",
            " however , the relationship between these processes , complication remediation , and expenditures is unknown.methodsdata for patients with cancer diagnoses undergoing colectomy , rectal resection , pulmonary lobectomy , pneumonectomy , esophagectomy , and pancreatic resection were obtained from hospital and inpatient physician medicare claims for the years 20052009 . \n",
            " riskadjusted regression analyses measured the association between hospitalization costs and processes presumed to prevent and/or remedy complications common to highrisk procedures.resultsafter controlling for comorbidities , analysis identified associations between increased costs and use of multiple processes , including arterial lines ( 412% higher ; p  <  0.001 ) and pulmonary artery catheters ( 2333% higher ; p  <  0.001 ) . \n",
            " epidural analgesia was not associated with higher costs . \n",
            " consultations were associated with 2444% ( p  <  0.001 ) higher costs , and total parenteral nutrition was associated with 1331% higher costs ( p  <  0.001).conclusionsmany frequently utilized processes and services presumed to avoid and/or ameliorate complications are associated with increased surgical oncology costs . \n",
            " this suggests that the patientcentered value of each process should be measured on a procedurespecific basis . \n",
            " likewise , further attention should be focused on defining the efficacy of each of these costly , but frequently unproven , additions to perioperative care . \n",
            " j. surg . \n",
            " oncol . \n",
            " 2015;112:610615 . \n",
            " 2015 the authors . \n",
            " journal of surgical oncology published by wiley periodicals , inc .\n",
            "\n",
            "---------------------------------------------------------------------------------------------------\n",
            "TRAINED MODEL GENERATED TEXT :\n",
            "in the course of treating cancer patients hospitalized for surgical procedures , health providers variably utilize multiple processes of care . \n",
            " processes of care , defined by the centers for medicare and medicaid services ( cms ) as a  series of interrelated activities undertaken to achieve objectives ,  are believed to be integral components of safe and effective care received by surgery patients , based on a belief that they prevent or ameliorate the impact of complications 1 . for the most part , these processes are optional and under the control of the surgical and anesthetic teams . \n",
            " the cmsmonitored processes are an important component of treatment to study , because they are readily quantified and more accepted by providers as indicators of their individual quality compared to outcome measures attributable to patient characteristics which are outside of provider control 2 , 3 . within the oncology field , surgery is often a primary component\n"
          ]
        }
      ]
    },
    {
      "cell_type": "markdown",
      "source": [
        "# Calculate Rouge score and BLEU score\n",
        "  - generally Rouge score is often used for summarization task.\n",
        "  - BLEU score is calculated for next word prediction realted task....it shows how good the generation accuracy."
      ],
      "metadata": {
        "id": "9L_GX3_z-HER"
      }
    },
    {
      "cell_type": "code",
      "source": [
        "import random\n",
        "import numpy as np\n",
        "from nltk.translate.bleu_score import sentence_bleu, SmoothingFunction\n",
        "from rouge_score import rouge_scorer\n",
        "from tqdm import tqdm\n",
        "random.seed(42)\n",
        "\n",
        "num_samples = 30\n",
        "indices = random.sample(range(len(train_data)), num_samples)\n",
        "\n",
        "smoothie = SmoothingFunction().method4\n",
        "scorer = rouge_scorer.RougeScorer(['rouge1', 'rouge2', 'rougeL'], use_stemmer=True)\n",
        "\n",
        "\n",
        "bleu_scores = []\n",
        "rouge1_scores = []\n",
        "rouge2_scores = []\n",
        "rougeL_scores = []\n",
        "\n",
        "for idx in tqdm(indices):\n",
        "    dialogue = train_data['article'][idx][:10000]\n",
        "    reference_summary = train_data['abstract'][idx]\n",
        "\n",
        "    prompt = f\"\"\"\n",
        "    Summarize the following conversation.\n",
        "\n",
        "    ### Input:\n",
        "    {dialogue}\n",
        "\n",
        "    ### Summary:\n",
        "    \"\"\"\n",
        "    input_ids = tokenizer(prompt, return_tensors='pt', truncation=True).input_ids.cuda()\n",
        "    outputs = trained_model.generate(input_ids=input_ids, max_new_tokens=200)\n",
        "    generated_summary = tokenizer.batch_decode(outputs.detach().cpu().numpy(), skip_special_tokens=True)[0][len(prompt):]\n",
        "\n",
        "    bleu = sentence_bleu([reference_summary.split()], generated_summary.split(), smoothing_function=smoothie)\n",
        "    bleu_scores.append(bleu)\n",
        "\n",
        "    rouge_scores = scorer.score(reference_summary, generated_summary)\n",
        "    rouge1_scores.append(rouge_scores['rouge1'].fmeasure)\n",
        "    rouge2_scores.append(rouge_scores['rouge2'].fmeasure)\n",
        "    rougeL_scores.append(rouge_scores['rougeL'].fmeasure)\n",
        "\n",
        "avg_bleu = np.mean(bleu_scores)\n",
        "avg_rouge1 = np.mean(rouge1_scores)\n",
        "avg_rouge2 = np.mean(rouge2_scores)\n",
        "avg_rougeL = np.mean(rougeL_scores)\n",
        "\n",
        "print(f\"Average BLEU Score: {avg_bleu:.4f}\")\n",
        "print(f\"Average ROUGE-1 Score: {avg_rouge1:.4f}\")\n",
        "print(f\"Average ROUGE-2 Score: {avg_rouge2:.4f}\")\n",
        "print(f\"Average ROUGE-L Score: {avg_rougeL:.4f}\")"
      ],
      "metadata": {
        "colab": {
          "base_uri": "https://localhost:8080/"
        },
        "id": "RD5BMlak-KiZ",
        "outputId": "7295cfb7-6940-4e96-b13f-5706d28a3d3d"
      },
      "execution_count": 22,
      "outputs": [
        {
          "output_type": "stream",
          "name": "stderr",
          "text": [
            "100%|██████████| 30/30 [15:10<00:00, 30.35s/it]"
          ]
        },
        {
          "output_type": "stream",
          "name": "stdout",
          "text": [
            "Average BLEU Score: 0.0544\n",
            "Average ROUGE-1 Score: 0.2790\n",
            "Average ROUGE-2 Score: 0.0866\n",
            "Average ROUGE-L Score: 0.1581\n"
          ]
        },
        {
          "output_type": "stream",
          "name": "stderr",
          "text": [
            "\n"
          ]
        }
      ]
    },
    {
      "cell_type": "code",
      "source": [],
      "metadata": {
        "id": "_iG5N3jr-tG3"
      },
      "execution_count": null,
      "outputs": []
    }
  ]
}